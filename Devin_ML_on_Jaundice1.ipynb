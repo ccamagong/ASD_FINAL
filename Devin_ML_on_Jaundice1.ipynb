{
 "cells": [
  {
   "cell_type": "code",
   "execution_count": 1,
   "metadata": {},
   "outputs": [],
   "source": [
    "import pandas as pd\n",
    "from pandas.plotting import scatter_matrix\n",
    "import matplotlib.pyplot as plt\n",
    "from sklearn import model_selection\n",
    "from sklearn.metrics import classification_report\n",
    "from sklearn.metrics import confusion_matrix\n",
    "from sklearn.metrics import accuracy_score\n",
    "from sklearn.linear_model import LogisticRegression\n",
    "from sklearn.tree import DecisionTreeClassifier\n",
    "from sklearn.ensemble import RandomForestClassifier\n",
    "from sklearn.neighbors import KNeighborsClassifier\n",
    "from sklearn.discriminant_analysis import LinearDiscriminantAnalysis\n",
    "from sklearn.naive_bayes import GaussianNB\n",
    "from sklearn.svm import SVC"
   ]
  },
  {
   "cell_type": "code",
   "execution_count": 2,
   "metadata": {},
   "outputs": [
    {
     "data": {
      "text/plain": [
       "Index(['A1', 'A2', 'A3', 'A4', 'A5', 'A6', 'A7', 'A8', 'A9', 'A10', 'Age',\n",
       "       'Sex', 'Jaundice', 'Family_ASD', 'Class', 'asian', 'black', 'hispanic',\n",
       "       'latino', 'middle eastern', 'others', 'south asians', 'white'],\n",
       "      dtype='object')"
      ]
     },
     "execution_count": 2,
     "metadata": {},
     "output_type": "execute_result"
    }
   ],
   "source": [
    "df = pd.read_csv(\"asd_all_ML.csv\").drop(\"Unnamed: 0\", axis=1)\n",
    "df.columns"
   ]
  },
  {
   "cell_type": "markdown",
   "metadata": {},
   "source": [
    "# ML with just Jaundice as predictor of Class"
   ]
  },
  {
   "cell_type": "code",
   "execution_count": 3,
   "metadata": {},
   "outputs": [],
   "source": [
    "X = pd.DataFrame(df['Jaundice'])\n",
    "Y = df['Class']\n",
    "validation_size = 0.20\n",
    "seed = 7\n",
    "X_train, X_validation, Y_train, Y_validation = model_selection.train_test_split(\n",
    "    X, Y, test_size=validation_size, random_state=seed)"
   ]
  },
  {
   "cell_type": "code",
   "execution_count": 4,
   "metadata": {},
   "outputs": [],
   "source": [
    "models = []\n",
    "models.append(('LR', LogisticRegression()))\n",
    "models.append(('LDA', LinearDiscriminantAnalysis()))\n",
    "models.append(('KNN', KNeighborsClassifier()))\n",
    "models.append(('CART', DecisionTreeClassifier()))\n",
    "models.append(('RF', RandomForestClassifier()))\n",
    "models.append(('NB', GaussianNB()))\n",
    "models.append(('SVM', SVC()))"
   ]
  },
  {
   "cell_type": "code",
   "execution_count": 5,
   "metadata": {},
   "outputs": [
    {
     "name": "stderr",
     "output_type": "stream",
     "text": [
      "/Users/devinmoya/anaconda/lib/python3.6/site-packages/sklearn/linear_model/logistic.py:432: FutureWarning: Default solver will be changed to 'lbfgs' in 0.22. Specify a solver to silence this warning.\n",
      "  FutureWarning)\n",
      "/Users/devinmoya/anaconda/lib/python3.6/site-packages/sklearn/linear_model/logistic.py:432: FutureWarning: Default solver will be changed to 'lbfgs' in 0.22. Specify a solver to silence this warning.\n",
      "  FutureWarning)\n",
      "/Users/devinmoya/anaconda/lib/python3.6/site-packages/sklearn/linear_model/logistic.py:432: FutureWarning: Default solver will be changed to 'lbfgs' in 0.22. Specify a solver to silence this warning.\n",
      "  FutureWarning)\n",
      "/Users/devinmoya/anaconda/lib/python3.6/site-packages/sklearn/linear_model/logistic.py:432: FutureWarning: Default solver will be changed to 'lbfgs' in 0.22. Specify a solver to silence this warning.\n",
      "  FutureWarning)\n",
      "/Users/devinmoya/anaconda/lib/python3.6/site-packages/sklearn/linear_model/logistic.py:432: FutureWarning: Default solver will be changed to 'lbfgs' in 0.22. Specify a solver to silence this warning.\n",
      "  FutureWarning)\n",
      "/Users/devinmoya/anaconda/lib/python3.6/site-packages/sklearn/linear_model/logistic.py:432: FutureWarning: Default solver will be changed to 'lbfgs' in 0.22. Specify a solver to silence this warning.\n",
      "  FutureWarning)\n",
      "/Users/devinmoya/anaconda/lib/python3.6/site-packages/sklearn/linear_model/logistic.py:432: FutureWarning: Default solver will be changed to 'lbfgs' in 0.22. Specify a solver to silence this warning.\n",
      "  FutureWarning)\n",
      "/Users/devinmoya/anaconda/lib/python3.6/site-packages/sklearn/linear_model/logistic.py:432: FutureWarning: Default solver will be changed to 'lbfgs' in 0.22. Specify a solver to silence this warning.\n",
      "  FutureWarning)\n",
      "/Users/devinmoya/anaconda/lib/python3.6/site-packages/sklearn/linear_model/logistic.py:432: FutureWarning: Default solver will be changed to 'lbfgs' in 0.22. Specify a solver to silence this warning.\n",
      "  FutureWarning)\n",
      "/Users/devinmoya/anaconda/lib/python3.6/site-packages/sklearn/linear_model/logistic.py:432: FutureWarning: Default solver will be changed to 'lbfgs' in 0.22. Specify a solver to silence this warning.\n",
      "  FutureWarning)\n"
     ]
    },
    {
     "name": "stdout",
     "output_type": "stream",
     "text": [
      "LR: 0.600443 (0.040571)\n",
      "LDA: 0.595074 (0.034905)\n",
      "KNN: 0.508407 (0.101850)\n",
      "CART: 0.600443 (0.040571)\n",
      "RF: 0.593740 (0.034434)\n"
     ]
    },
    {
     "name": "stderr",
     "output_type": "stream",
     "text": [
      "/Users/devinmoya/anaconda/lib/python3.6/site-packages/sklearn/ensemble/forest.py:245: FutureWarning: The default value of n_estimators will change from 10 in version 0.20 to 100 in 0.22.\n",
      "  \"10 in version 0.20 to 100 in 0.22.\", FutureWarning)\n",
      "/Users/devinmoya/anaconda/lib/python3.6/site-packages/sklearn/ensemble/forest.py:245: FutureWarning: The default value of n_estimators will change from 10 in version 0.20 to 100 in 0.22.\n",
      "  \"10 in version 0.20 to 100 in 0.22.\", FutureWarning)\n",
      "/Users/devinmoya/anaconda/lib/python3.6/site-packages/sklearn/ensemble/forest.py:245: FutureWarning: The default value of n_estimators will change from 10 in version 0.20 to 100 in 0.22.\n",
      "  \"10 in version 0.20 to 100 in 0.22.\", FutureWarning)\n",
      "/Users/devinmoya/anaconda/lib/python3.6/site-packages/sklearn/ensemble/forest.py:245: FutureWarning: The default value of n_estimators will change from 10 in version 0.20 to 100 in 0.22.\n",
      "  \"10 in version 0.20 to 100 in 0.22.\", FutureWarning)\n",
      "/Users/devinmoya/anaconda/lib/python3.6/site-packages/sklearn/ensemble/forest.py:245: FutureWarning: The default value of n_estimators will change from 10 in version 0.20 to 100 in 0.22.\n",
      "  \"10 in version 0.20 to 100 in 0.22.\", FutureWarning)\n",
      "/Users/devinmoya/anaconda/lib/python3.6/site-packages/sklearn/ensemble/forest.py:245: FutureWarning: The default value of n_estimators will change from 10 in version 0.20 to 100 in 0.22.\n",
      "  \"10 in version 0.20 to 100 in 0.22.\", FutureWarning)\n",
      "/Users/devinmoya/anaconda/lib/python3.6/site-packages/sklearn/ensemble/forest.py:245: FutureWarning: The default value of n_estimators will change from 10 in version 0.20 to 100 in 0.22.\n",
      "  \"10 in version 0.20 to 100 in 0.22.\", FutureWarning)\n",
      "/Users/devinmoya/anaconda/lib/python3.6/site-packages/sklearn/ensemble/forest.py:245: FutureWarning: The default value of n_estimators will change from 10 in version 0.20 to 100 in 0.22.\n",
      "  \"10 in version 0.20 to 100 in 0.22.\", FutureWarning)\n",
      "/Users/devinmoya/anaconda/lib/python3.6/site-packages/sklearn/ensemble/forest.py:245: FutureWarning: The default value of n_estimators will change from 10 in version 0.20 to 100 in 0.22.\n",
      "  \"10 in version 0.20 to 100 in 0.22.\", FutureWarning)\n",
      "/Users/devinmoya/anaconda/lib/python3.6/site-packages/sklearn/ensemble/forest.py:245: FutureWarning: The default value of n_estimators will change from 10 in version 0.20 to 100 in 0.22.\n",
      "  \"10 in version 0.20 to 100 in 0.22.\", FutureWarning)\n"
     ]
    },
    {
     "name": "stdout",
     "output_type": "stream",
     "text": [
      "NB: 0.595074 (0.038072)\n"
     ]
    },
    {
     "name": "stderr",
     "output_type": "stream",
     "text": [
      "/Users/devinmoya/anaconda/lib/python3.6/site-packages/sklearn/svm/base.py:193: FutureWarning: The default value of gamma will change from 'auto' to 'scale' in version 0.22 to account better for unscaled features. Set gamma explicitly to 'auto' or 'scale' to avoid this warning.\n",
      "  \"avoid this warning.\", FutureWarning)\n",
      "/Users/devinmoya/anaconda/lib/python3.6/site-packages/sklearn/svm/base.py:193: FutureWarning: The default value of gamma will change from 'auto' to 'scale' in version 0.22 to account better for unscaled features. Set gamma explicitly to 'auto' or 'scale' to avoid this warning.\n",
      "  \"avoid this warning.\", FutureWarning)\n",
      "/Users/devinmoya/anaconda/lib/python3.6/site-packages/sklearn/svm/base.py:193: FutureWarning: The default value of gamma will change from 'auto' to 'scale' in version 0.22 to account better for unscaled features. Set gamma explicitly to 'auto' or 'scale' to avoid this warning.\n",
      "  \"avoid this warning.\", FutureWarning)\n",
      "/Users/devinmoya/anaconda/lib/python3.6/site-packages/sklearn/svm/base.py:193: FutureWarning: The default value of gamma will change from 'auto' to 'scale' in version 0.22 to account better for unscaled features. Set gamma explicitly to 'auto' or 'scale' to avoid this warning.\n",
      "  \"avoid this warning.\", FutureWarning)\n",
      "/Users/devinmoya/anaconda/lib/python3.6/site-packages/sklearn/svm/base.py:193: FutureWarning: The default value of gamma will change from 'auto' to 'scale' in version 0.22 to account better for unscaled features. Set gamma explicitly to 'auto' or 'scale' to avoid this warning.\n",
      "  \"avoid this warning.\", FutureWarning)\n",
      "/Users/devinmoya/anaconda/lib/python3.6/site-packages/sklearn/svm/base.py:193: FutureWarning: The default value of gamma will change from 'auto' to 'scale' in version 0.22 to account better for unscaled features. Set gamma explicitly to 'auto' or 'scale' to avoid this warning.\n",
      "  \"avoid this warning.\", FutureWarning)\n",
      "/Users/devinmoya/anaconda/lib/python3.6/site-packages/sklearn/svm/base.py:193: FutureWarning: The default value of gamma will change from 'auto' to 'scale' in version 0.22 to account better for unscaled features. Set gamma explicitly to 'auto' or 'scale' to avoid this warning.\n",
      "  \"avoid this warning.\", FutureWarning)\n",
      "/Users/devinmoya/anaconda/lib/python3.6/site-packages/sklearn/svm/base.py:193: FutureWarning: The default value of gamma will change from 'auto' to 'scale' in version 0.22 to account better for unscaled features. Set gamma explicitly to 'auto' or 'scale' to avoid this warning.\n",
      "  \"avoid this warning.\", FutureWarning)\n"
     ]
    },
    {
     "name": "stdout",
     "output_type": "stream",
     "text": [
      "SVM: 0.600443 (0.040571)\n"
     ]
    },
    {
     "name": "stderr",
     "output_type": "stream",
     "text": [
      "/Users/devinmoya/anaconda/lib/python3.6/site-packages/sklearn/svm/base.py:193: FutureWarning: The default value of gamma will change from 'auto' to 'scale' in version 0.22 to account better for unscaled features. Set gamma explicitly to 'auto' or 'scale' to avoid this warning.\n",
      "  \"avoid this warning.\", FutureWarning)\n",
      "/Users/devinmoya/anaconda/lib/python3.6/site-packages/sklearn/svm/base.py:193: FutureWarning: The default value of gamma will change from 'auto' to 'scale' in version 0.22 to account better for unscaled features. Set gamma explicitly to 'auto' or 'scale' to avoid this warning.\n",
      "  \"avoid this warning.\", FutureWarning)\n"
     ]
    }
   ],
   "source": [
    "# Test options and evaluation metric\n",
    "seed = 7\n",
    "scoring = 'accuracy'\n",
    "\n",
    "results = []\n",
    "names = []\n",
    "\n",
    "# evaluate each model in turn\n",
    "for name, model in models:\n",
    "    kfold = model_selection.KFold(n_splits=10, random_state=seed)\n",
    "    cv_results = model_selection.cross_val_score(\n",
    "        model, X_train, Y_train, cv=kfold, scoring=scoring)\n",
    "    results.append(cv_results)\n",
    "    names.append(name)\n",
    "    msg = \"%s: %f (%f)\" % (name, cv_results.mean(), cv_results.std())\n",
    "    print(msg)"
   ]
  },
  {
   "cell_type": "markdown",
   "metadata": {},
   "source": [
    "Logistic Regression was had a sqaured value of .6"
   ]
  },
  {
   "cell_type": "markdown",
   "metadata": {},
   "source": [
    "# ML with all predictors "
   ]
  },
  {
   "cell_type": "code",
   "execution_count": 6,
   "metadata": {},
   "outputs": [],
   "source": [
    "X = df.drop(\"Class\", axis=1)\n",
    "Y = df['Class']\n",
    "validation_size = 0.20\n",
    "seed = 7\n",
    "X_train, X_validation, Y_train, Y_validation = model_selection.train_test_split(\n",
    "    X, Y, test_size=validation_size, random_state=seed)"
   ]
  },
  {
   "cell_type": "code",
   "execution_count": 7,
   "metadata": {},
   "outputs": [
    {
     "name": "stderr",
     "output_type": "stream",
     "text": [
      "/Users/devinmoya/anaconda/lib/python3.6/site-packages/sklearn/linear_model/logistic.py:432: FutureWarning: Default solver will be changed to 'lbfgs' in 0.22. Specify a solver to silence this warning.\n",
      "  FutureWarning)\n",
      "/Users/devinmoya/anaconda/lib/python3.6/site-packages/sklearn/linear_model/logistic.py:432: FutureWarning: Default solver will be changed to 'lbfgs' in 0.22. Specify a solver to silence this warning.\n",
      "  FutureWarning)\n",
      "/Users/devinmoya/anaconda/lib/python3.6/site-packages/sklearn/linear_model/logistic.py:432: FutureWarning: Default solver will be changed to 'lbfgs' in 0.22. Specify a solver to silence this warning.\n",
      "  FutureWarning)\n",
      "/Users/devinmoya/anaconda/lib/python3.6/site-packages/sklearn/linear_model/logistic.py:432: FutureWarning: Default solver will be changed to 'lbfgs' in 0.22. Specify a solver to silence this warning.\n",
      "  FutureWarning)\n",
      "/Users/devinmoya/anaconda/lib/python3.6/site-packages/sklearn/linear_model/logistic.py:432: FutureWarning: Default solver will be changed to 'lbfgs' in 0.22. Specify a solver to silence this warning.\n",
      "  FutureWarning)\n",
      "/Users/devinmoya/anaconda/lib/python3.6/site-packages/sklearn/linear_model/logistic.py:432: FutureWarning: Default solver will be changed to 'lbfgs' in 0.22. Specify a solver to silence this warning.\n",
      "  FutureWarning)\n",
      "/Users/devinmoya/anaconda/lib/python3.6/site-packages/sklearn/linear_model/logistic.py:432: FutureWarning: Default solver will be changed to 'lbfgs' in 0.22. Specify a solver to silence this warning.\n",
      "  FutureWarning)\n",
      "/Users/devinmoya/anaconda/lib/python3.6/site-packages/sklearn/linear_model/logistic.py:432: FutureWarning: Default solver will be changed to 'lbfgs' in 0.22. Specify a solver to silence this warning.\n",
      "  FutureWarning)\n",
      "/Users/devinmoya/anaconda/lib/python3.6/site-packages/sklearn/linear_model/logistic.py:432: FutureWarning: Default solver will be changed to 'lbfgs' in 0.22. Specify a solver to silence this warning.\n",
      "  FutureWarning)\n",
      "/Users/devinmoya/anaconda/lib/python3.6/site-packages/sklearn/linear_model/logistic.py:432: FutureWarning: Default solver will be changed to 'lbfgs' in 0.22. Specify a solver to silence this warning.\n",
      "  FutureWarning)\n"
     ]
    },
    {
     "name": "stdout",
     "output_type": "stream",
     "text": [
      "LR: 0.990662 (0.006797)\n",
      "LDA: 0.965320 (0.013906)\n",
      "KNN: 0.893919 (0.013568)\n",
      "CART: 0.929946 (0.020521)\n",
      "RF: 0.947284 (0.022247)\n"
     ]
    },
    {
     "name": "stderr",
     "output_type": "stream",
     "text": [
      "/Users/devinmoya/anaconda/lib/python3.6/site-packages/sklearn/ensemble/forest.py:245: FutureWarning: The default value of n_estimators will change from 10 in version 0.20 to 100 in 0.22.\n",
      "  \"10 in version 0.20 to 100 in 0.22.\", FutureWarning)\n",
      "/Users/devinmoya/anaconda/lib/python3.6/site-packages/sklearn/ensemble/forest.py:245: FutureWarning: The default value of n_estimators will change from 10 in version 0.20 to 100 in 0.22.\n",
      "  \"10 in version 0.20 to 100 in 0.22.\", FutureWarning)\n",
      "/Users/devinmoya/anaconda/lib/python3.6/site-packages/sklearn/ensemble/forest.py:245: FutureWarning: The default value of n_estimators will change from 10 in version 0.20 to 100 in 0.22.\n",
      "  \"10 in version 0.20 to 100 in 0.22.\", FutureWarning)\n",
      "/Users/devinmoya/anaconda/lib/python3.6/site-packages/sklearn/ensemble/forest.py:245: FutureWarning: The default value of n_estimators will change from 10 in version 0.20 to 100 in 0.22.\n",
      "  \"10 in version 0.20 to 100 in 0.22.\", FutureWarning)\n",
      "/Users/devinmoya/anaconda/lib/python3.6/site-packages/sklearn/ensemble/forest.py:245: FutureWarning: The default value of n_estimators will change from 10 in version 0.20 to 100 in 0.22.\n",
      "  \"10 in version 0.20 to 100 in 0.22.\", FutureWarning)\n",
      "/Users/devinmoya/anaconda/lib/python3.6/site-packages/sklearn/ensemble/forest.py:245: FutureWarning: The default value of n_estimators will change from 10 in version 0.20 to 100 in 0.22.\n",
      "  \"10 in version 0.20 to 100 in 0.22.\", FutureWarning)\n",
      "/Users/devinmoya/anaconda/lib/python3.6/site-packages/sklearn/ensemble/forest.py:245: FutureWarning: The default value of n_estimators will change from 10 in version 0.20 to 100 in 0.22.\n",
      "  \"10 in version 0.20 to 100 in 0.22.\", FutureWarning)\n",
      "/Users/devinmoya/anaconda/lib/python3.6/site-packages/sklearn/ensemble/forest.py:245: FutureWarning: The default value of n_estimators will change from 10 in version 0.20 to 100 in 0.22.\n",
      "  \"10 in version 0.20 to 100 in 0.22.\", FutureWarning)\n",
      "/Users/devinmoya/anaconda/lib/python3.6/site-packages/sklearn/ensemble/forest.py:245: FutureWarning: The default value of n_estimators will change from 10 in version 0.20 to 100 in 0.22.\n",
      "  \"10 in version 0.20 to 100 in 0.22.\", FutureWarning)\n",
      "/Users/devinmoya/anaconda/lib/python3.6/site-packages/sklearn/ensemble/forest.py:245: FutureWarning: The default value of n_estimators will change from 10 in version 0.20 to 100 in 0.22.\n",
      "  \"10 in version 0.20 to 100 in 0.22.\", FutureWarning)\n"
     ]
    },
    {
     "name": "stdout",
     "output_type": "stream",
     "text": [
      "NB: 0.918609 (0.027628)\n"
     ]
    },
    {
     "name": "stderr",
     "output_type": "stream",
     "text": [
      "/Users/devinmoya/anaconda/lib/python3.6/site-packages/sklearn/svm/base.py:193: FutureWarning: The default value of gamma will change from 'auto' to 'scale' in version 0.22 to account better for unscaled features. Set gamma explicitly to 'auto' or 'scale' to avoid this warning.\n",
      "  \"avoid this warning.\", FutureWarning)\n",
      "/Users/devinmoya/anaconda/lib/python3.6/site-packages/sklearn/svm/base.py:193: FutureWarning: The default value of gamma will change from 'auto' to 'scale' in version 0.22 to account better for unscaled features. Set gamma explicitly to 'auto' or 'scale' to avoid this warning.\n",
      "  \"avoid this warning.\", FutureWarning)\n",
      "/Users/devinmoya/anaconda/lib/python3.6/site-packages/sklearn/svm/base.py:193: FutureWarning: The default value of gamma will change from 'auto' to 'scale' in version 0.22 to account better for unscaled features. Set gamma explicitly to 'auto' or 'scale' to avoid this warning.\n",
      "  \"avoid this warning.\", FutureWarning)\n",
      "/Users/devinmoya/anaconda/lib/python3.6/site-packages/sklearn/svm/base.py:193: FutureWarning: The default value of gamma will change from 'auto' to 'scale' in version 0.22 to account better for unscaled features. Set gamma explicitly to 'auto' or 'scale' to avoid this warning.\n",
      "  \"avoid this warning.\", FutureWarning)\n",
      "/Users/devinmoya/anaconda/lib/python3.6/site-packages/sklearn/svm/base.py:193: FutureWarning: The default value of gamma will change from 'auto' to 'scale' in version 0.22 to account better for unscaled features. Set gamma explicitly to 'auto' or 'scale' to avoid this warning.\n",
      "  \"avoid this warning.\", FutureWarning)\n"
     ]
    },
    {
     "name": "stdout",
     "output_type": "stream",
     "text": [
      "SVM: 0.951978 (0.014523)\n"
     ]
    },
    {
     "name": "stderr",
     "output_type": "stream",
     "text": [
      "/Users/devinmoya/anaconda/lib/python3.6/site-packages/sklearn/svm/base.py:193: FutureWarning: The default value of gamma will change from 'auto' to 'scale' in version 0.22 to account better for unscaled features. Set gamma explicitly to 'auto' or 'scale' to avoid this warning.\n",
      "  \"avoid this warning.\", FutureWarning)\n",
      "/Users/devinmoya/anaconda/lib/python3.6/site-packages/sklearn/svm/base.py:193: FutureWarning: The default value of gamma will change from 'auto' to 'scale' in version 0.22 to account better for unscaled features. Set gamma explicitly to 'auto' or 'scale' to avoid this warning.\n",
      "  \"avoid this warning.\", FutureWarning)\n",
      "/Users/devinmoya/anaconda/lib/python3.6/site-packages/sklearn/svm/base.py:193: FutureWarning: The default value of gamma will change from 'auto' to 'scale' in version 0.22 to account better for unscaled features. Set gamma explicitly to 'auto' or 'scale' to avoid this warning.\n",
      "  \"avoid this warning.\", FutureWarning)\n",
      "/Users/devinmoya/anaconda/lib/python3.6/site-packages/sklearn/svm/base.py:193: FutureWarning: The default value of gamma will change from 'auto' to 'scale' in version 0.22 to account better for unscaled features. Set gamma explicitly to 'auto' or 'scale' to avoid this warning.\n",
      "  \"avoid this warning.\", FutureWarning)\n",
      "/Users/devinmoya/anaconda/lib/python3.6/site-packages/sklearn/svm/base.py:193: FutureWarning: The default value of gamma will change from 'auto' to 'scale' in version 0.22 to account better for unscaled features. Set gamma explicitly to 'auto' or 'scale' to avoid this warning.\n",
      "  \"avoid this warning.\", FutureWarning)\n"
     ]
    }
   ],
   "source": [
    "seed = 7\n",
    "scoring = 'accuracy'\n",
    "\n",
    "results = []\n",
    "names = []\n",
    "\n",
    "# evaluate each model in turn\n",
    "for name, model in models:\n",
    "    kfold = model_selection.KFold(n_splits=10, random_state=seed)\n",
    "    cv_results = model_selection.cross_val_score(\n",
    "        model, X_train, Y_train, cv=kfold, scoring=scoring)\n",
    "    results.append(cv_results)\n",
    "    names.append(name)\n",
    "    msg = \"%s: %f (%f)\" % (name, cv_results.mean(), cv_results.std())\n",
    "    print(msg)"
   ]
  },
  {
   "cell_type": "markdown",
   "metadata": {},
   "source": [
    "Logistic Regression had r-squared value of .99\n",
    "\n",
    "RF had rsquared of .95"
   ]
  },
  {
   "cell_type": "markdown",
   "metadata": {},
   "source": [
    "# Random Forest with hyperparameter tuning "
   ]
  },
  {
   "cell_type": "code",
   "execution_count": 8,
   "metadata": {},
   "outputs": [
    {
     "name": "stdout",
     "output_type": "stream",
     "text": [
      "1 : 0.8933333333333333\n",
      "4 : 0.9093333333333333\n",
      "5 : 0.904\n",
      "8 : 0.9146666666666666\n",
      "10 : 0.92\n",
      "20 : 0.936\n",
      "50 : 0.952\n",
      "75 : 0.9546666666666667\n",
      "100 : 0.9546666666666667\n",
      "250 : 0.96\n",
      "500 : 0.9626666666666667\n"
     ]
    }
   ],
   "source": [
    "n_estimators_array = [1, 4, 5, 8, 10, 20, 50, 75, 100, 250, 500]\n",
    "results = []\n",
    "for n in n_estimators_array:\n",
    "    forest = RandomForestClassifier(n_estimators=n, random_state=76)\n",
    "    forest.fit(X_train, Y_train)\n",
    "    result = accuracy_score(Y_validation, forest.predict(X_validation))\n",
    "    results.append(result) \n",
    "    print(n, ':', result)"
   ]
  },
  {
   "cell_type": "code",
   "execution_count": 9,
   "metadata": {},
   "outputs": [
    {
     "data": {
      "text/plain": [
       "[<matplotlib.lines.Line2D at 0x1a214c8400>]"
      ]
     },
     "execution_count": 9,
     "metadata": {},
     "output_type": "execute_result"
    },
    {
     "data": {
      "image/png": "[encoded data removed]",
      "text/plain": [
       "<Figure size 432x288 with 1 Axes>"
      ]
     },
     "metadata": {
      "needs_background": "light"
     },
     "output_type": "display_data"
    }
   ],
   "source": [
    "plt.plot(n_estimators_array, results)"
   ]
  },
  {
   "cell_type": "markdown",
   "metadata": {},
   "source": [
    "# heads up, will take 5-10 minutes to run, maybe longer/shorter depedning on computer"
   ]
  },
  {
   "cell_type": "code",
   "execution_count": 10,
   "metadata": {},
   "outputs": [
    {
     "name": "stdout",
     "output_type": "stream",
     "text": [
      "{'max_features': ['auto', None, 'log2'], 'max_depth': [10, 20, 30, 40, 50, 60, 70, 80, 90, None], 'min_samples_leaf': [1, 2, 4]}\n"
     ]
    }
   ],
   "source": [
    "from sklearn.model_selection import RandomizedSearchCV\n",
    "# Number of features to consider at every split\n",
    "max_features = ['auto', None, 'log2']\n",
    "# Maximum number of levels in tree\n",
    "max_depth = [10, 20, 30, 40, 50, 60, 70, 80, 90, None]\n",
    "# Minimum number of samples required at each leaf node\n",
    "min_samples_leaf = [1, 2, 4]\n",
    "# Method of selecting samples for training each tree\n",
    "random_grid = {'max_features': max_features,\n",
    "               'max_depth': max_depth,\n",
    "               'min_samples_leaf': min_samples_leaf}\n",
    "print(random_grid)"
   ]
  },
  {
   "cell_type": "code",
   "execution_count": 11,
   "metadata": {},
   "outputs": [
    {
     "name": "stderr",
     "output_type": "stream",
     "text": [
      "/Users/devinmoya/anaconda/lib/python3.6/site-packages/sklearn/model_selection/_search.py:266: UserWarning: The total space of parameters 90 is smaller than n_iter=100. Running 90 iterations. For exhaustive searches, use GridSearchCV.\n",
      "  % (grid_size, self.n_iter, grid_size), UserWarning)\n",
      "[Parallel(n_jobs=1)]: Using backend SequentialBackend with 1 concurrent workers.\n"
     ]
    },
    {
     "name": "stdout",
     "output_type": "stream",
     "text": [
      "Fitting 3 folds for each of 90 candidates, totalling 270 fits\n",
      "[CV] min_samples_leaf=1, max_features=auto, max_depth=10 .............\n",
      "[CV]  min_samples_leaf=1, max_features=auto, max_depth=10, total=   0.8s\n",
      "[CV] min_samples_leaf=1, max_features=auto, max_depth=10 .............\n"
     ]
    },
    {
     "name": "stderr",
     "output_type": "stream",
     "text": [
      "[Parallel(n_jobs=1)]: Done   1 out of   1 | elapsed:    0.8s remaining:    0.0s\n"
     ]
    },
    {
     "name": "stdout",
     "output_type": "stream",
     "text": [
      "[CV]  min_samples_leaf=1, max_features=auto, max_depth=10, total=   0.8s\n",
      "[CV] min_samples_leaf=1, max_features=auto, max_depth=10 .............\n",
      "[CV]  min_samples_leaf=1, max_features=auto, max_depth=10, total=   0.7s\n",
      "[CV] min_samples_leaf=2, max_features=auto, max_depth=10 .............\n",
      "[CV]  min_samples_leaf=2, max_features=auto, max_depth=10, total=   0.7s\n",
      "[CV] min_samples_leaf=2, max_features=auto, max_depth=10 .............\n",
      "[CV]  min_samples_leaf=2, max_features=auto, max_depth=10, total=   0.8s\n",
      "[CV] min_samples_leaf=2, max_features=auto, max_depth=10 .............\n",
      "[CV]  min_samples_leaf=2, max_features=auto, max_depth=10, total=   0.7s\n",
      "[CV] min_samples_leaf=4, max_features=auto, max_depth=10 .............\n",
      "[CV]  min_samples_leaf=4, max_features=auto, max_depth=10, total=   0.7s\n",
      "[CV] min_samples_leaf=4, max_features=auto, max_depth=10 .............\n",
      "[CV]  min_samples_leaf=4, max_features=auto, max_depth=10, total=   0.7s\n",
      "[CV] min_samples_leaf=4, max_features=auto, max_depth=10 .............\n",
      "[CV]  min_samples_leaf=4, max_features=auto, max_depth=10, total=   0.7s\n",
      "[CV] min_samples_leaf=1, max_features=None, max_depth=10 .............\n",
      "[CV]  min_samples_leaf=1, max_features=None, max_depth=10, total=   1.0s\n",
      "[CV] min_samples_leaf=1, max_features=None, max_depth=10 .............\n",
      "[CV]  min_samples_leaf=1, max_features=None, max_depth=10, total=   0.9s\n",
      "[CV] min_samples_leaf=1, max_features=None, max_depth=10 .............\n",
      "[CV]  min_samples_leaf=1, max_features=None, max_depth=10, total=   0.9s\n",
      "[CV] min_samples_leaf=2, max_features=None, max_depth=10 .............\n",
      "[CV]  min_samples_leaf=2, max_features=None, max_depth=10, total=   0.9s\n",
      "[CV] min_samples_leaf=2, max_features=None, max_depth=10 .............\n",
      "[CV]  min_samples_leaf=2, max_features=None, max_depth=10, total=   1.0s\n",
      "[CV] min_samples_leaf=2, max_features=None, max_depth=10 .............\n",
      "[CV]  min_samples_leaf=2, max_features=None, max_depth=10, total=   0.9s\n",
      "[CV] min_samples_leaf=4, max_features=None, max_depth=10 .............\n",
      "[CV]  min_samples_leaf=4, max_features=None, max_depth=10, total=   0.9s\n",
      "[CV] min_samples_leaf=4, max_features=None, max_depth=10 .............\n",
      "[CV]  min_samples_leaf=4, max_features=None, max_depth=10, total=   0.9s\n",
      "[CV] min_samples_leaf=4, max_features=None, max_depth=10 .............\n",
      "[CV]  min_samples_leaf=4, max_features=None, max_depth=10, total=   1.0s\n",
      "[CV] min_samples_leaf=1, max_features=log2, max_depth=10 .............\n",
      "[CV]  min_samples_leaf=1, max_features=log2, max_depth=10, total=   0.8s\n",
      "[CV] min_samples_leaf=1, max_features=log2, max_depth=10 .............\n",
      "[CV]  min_samples_leaf=1, max_features=log2, max_depth=10, total=   0.8s\n",
      "[CV] min_samples_leaf=1, max_features=log2, max_depth=10 .............\n",
      "[CV]  min_samples_leaf=1, max_features=log2, max_depth=10, total=   0.8s\n",
      "[CV] min_samples_leaf=2, max_features=log2, max_depth=10 .............\n",
      "[CV]  min_samples_leaf=2, max_features=log2, max_depth=10, total=   0.8s\n",
      "[CV] min_samples_leaf=2, max_features=log2, max_depth=10 .............\n",
      "[CV]  min_samples_leaf=2, max_features=log2, max_depth=10, total=   0.8s\n",
      "[CV] min_samples_leaf=2, max_features=log2, max_depth=10 .............\n",
      "[CV]  min_samples_leaf=2, max_features=log2, max_depth=10, total=   0.8s\n",
      "[CV] min_samples_leaf=4, max_features=log2, max_depth=10 .............\n",
      "[CV]  min_samples_leaf=4, max_features=log2, max_depth=10, total=   0.8s\n",
      "[CV] min_samples_leaf=4, max_features=log2, max_depth=10 .............\n",
      "[CV]  min_samples_leaf=4, max_features=log2, max_depth=10, total=   0.9s\n",
      "[CV] min_samples_leaf=4, max_features=log2, max_depth=10 .............\n",
      "[CV]  min_samples_leaf=4, max_features=log2, max_depth=10, total=   0.7s\n",
      "[CV] min_samples_leaf=1, max_features=auto, max_depth=20 .............\n",
      "[CV]  min_samples_leaf=1, max_features=auto, max_depth=20, total=   0.9s\n",
      "[CV] min_samples_leaf=1, max_features=auto, max_depth=20 .............\n",
      "[CV]  min_samples_leaf=1, max_features=auto, max_depth=20, total=   0.9s\n",
      "[CV] min_samples_leaf=1, max_features=auto, max_depth=20 .............\n",
      "[CV]  min_samples_leaf=1, max_features=auto, max_depth=20, total=   0.9s\n",
      "[CV] min_samples_leaf=2, max_features=auto, max_depth=20 .............\n",
      "[CV]  min_samples_leaf=2, max_features=auto, max_depth=20, total=   0.8s\n",
      "[CV] min_samples_leaf=2, max_features=auto, max_depth=20 .............\n",
      "[CV]  min_samples_leaf=2, max_features=auto, max_depth=20, total=   0.8s\n",
      "[CV] min_samples_leaf=2, max_features=auto, max_depth=20 .............\n",
      "[CV]  min_samples_leaf=2, max_features=auto, max_depth=20, total=   0.8s\n",
      "[CV] min_samples_leaf=4, max_features=auto, max_depth=20 .............\n",
      "[CV]  min_samples_leaf=4, max_features=auto, max_depth=20, total=   0.7s\n",
      "[CV] min_samples_leaf=4, max_features=auto, max_depth=20 .............\n",
      "[CV]  min_samples_leaf=4, max_features=auto, max_depth=20, total=   0.7s\n",
      "[CV] min_samples_leaf=4, max_features=auto, max_depth=20 .............\n",
      "[CV]  min_samples_leaf=4, max_features=auto, max_depth=20, total=   0.7s\n",
      "[CV] min_samples_leaf=1, max_features=None, max_depth=20 .............\n",
      "[CV]  min_samples_leaf=1, max_features=None, max_depth=20, total=   1.0s\n",
      "[CV] min_samples_leaf=1, max_features=None, max_depth=20 .............\n",
      "[CV]  min_samples_leaf=1, max_features=None, max_depth=20, total=   1.2s\n",
      "[CV] min_samples_leaf=1, max_features=None, max_depth=20 .............\n",
      "[CV]  min_samples_leaf=1, max_features=None, max_depth=20, total=   1.1s\n",
      "[CV] min_samples_leaf=2, max_features=None, max_depth=20 .............\n",
      "[CV]  min_samples_leaf=2, max_features=None, max_depth=20, total=   1.1s\n",
      "[CV] min_samples_leaf=2, max_features=None, max_depth=20 .............\n",
      "[CV]  min_samples_leaf=2, max_features=None, max_depth=20, total=   1.0s\n",
      "[CV] min_samples_leaf=2, max_features=None, max_depth=20 .............\n",
      "[CV]  min_samples_leaf=2, max_features=None, max_depth=20, total=   0.9s\n",
      "[CV] min_samples_leaf=4, max_features=None, max_depth=20 .............\n",
      "[CV]  min_samples_leaf=4, max_features=None, max_depth=20, total=   0.9s\n",
      "[CV] min_samples_leaf=4, max_features=None, max_depth=20 .............\n",
      "[CV]  min_samples_leaf=4, max_features=None, max_depth=20, total=   0.9s\n",
      "[CV] min_samples_leaf=4, max_features=None, max_depth=20 .............\n",
      "[CV]  min_samples_leaf=4, max_features=None, max_depth=20, total=   0.8s\n",
      "[CV] min_samples_leaf=1, max_features=log2, max_depth=20 .............\n",
      "[CV]  min_samples_leaf=1, max_features=log2, max_depth=20, total=   0.7s\n",
      "[CV] min_samples_leaf=1, max_features=log2, max_depth=20 .............\n",
      "[CV]  min_samples_leaf=1, max_features=log2, max_depth=20, total=   0.7s\n",
      "[CV] min_samples_leaf=1, max_features=log2, max_depth=20 .............\n",
      "[CV]  min_samples_leaf=1, max_features=log2, max_depth=20, total=   0.7s\n",
      "[CV] min_samples_leaf=2, max_features=log2, max_depth=20 .............\n",
      "[CV]  min_samples_leaf=2, max_features=log2, max_depth=20, total=   0.7s\n",
      "[CV] min_samples_leaf=2, max_features=log2, max_depth=20 .............\n",
      "[CV]  min_samples_leaf=2, max_features=log2, max_depth=20, total=   0.7s\n",
      "[CV] min_samples_leaf=2, max_features=log2, max_depth=20 .............\n",
      "[CV]  min_samples_leaf=2, max_features=log2, max_depth=20, total=   0.7s\n",
      "[CV] min_samples_leaf=4, max_features=log2, max_depth=20 .............\n",
      "[CV]  min_samples_leaf=4, max_features=log2, max_depth=20, total=   0.7s\n",
      "[CV] min_samples_leaf=4, max_features=log2, max_depth=20 .............\n",
      "[CV]  min_samples_leaf=4, max_features=log2, max_depth=20, total=   0.7s\n",
      "[CV] min_samples_leaf=4, max_features=log2, max_depth=20 .............\n",
      "[CV]  min_samples_leaf=4, max_features=log2, max_depth=20, total=   0.7s\n",
      "[CV] min_samples_leaf=1, max_features=auto, max_depth=30 .............\n",
      "[CV]  min_samples_leaf=1, max_features=auto, max_depth=30, total=   0.8s\n",
      "[CV] min_samples_leaf=1, max_features=auto, max_depth=30 .............\n",
      "[CV]  min_samples_leaf=1, max_features=auto, max_depth=30, total=   0.8s\n",
      "[CV] min_samples_leaf=1, max_features=auto, max_depth=30 .............\n",
      "[CV]  min_samples_leaf=1, max_features=auto, max_depth=30, total=   0.9s\n",
      "[CV] min_samples_leaf=2, max_features=auto, max_depth=30 .............\n",
      "[CV]  min_samples_leaf=2, max_features=auto, max_depth=30, total=   0.8s\n",
      "[CV] min_samples_leaf=2, max_features=auto, max_depth=30 .............\n"
     ]
    },
    {
     "name": "stdout",
     "output_type": "stream",
     "text": [
      "[CV]  min_samples_leaf=2, max_features=auto, max_depth=30, total=   0.7s\n",
      "[CV] min_samples_leaf=2, max_features=auto, max_depth=30 .............\n",
      "[CV]  min_samples_leaf=2, max_features=auto, max_depth=30, total=   0.7s\n",
      "[CV] min_samples_leaf=4, max_features=auto, max_depth=30 .............\n",
      "[CV]  min_samples_leaf=4, max_features=auto, max_depth=30, total=   0.7s\n",
      "[CV] min_samples_leaf=4, max_features=auto, max_depth=30 .............\n",
      "[CV]  min_samples_leaf=4, max_features=auto, max_depth=30, total=   0.7s\n",
      "[CV] min_samples_leaf=4, max_features=auto, max_depth=30 .............\n",
      "[CV]  min_samples_leaf=4, max_features=auto, max_depth=30, total=   0.7s\n",
      "[CV] min_samples_leaf=1, max_features=None, max_depth=30 .............\n",
      "[CV]  min_samples_leaf=1, max_features=None, max_depth=30, total=   1.0s\n",
      "[CV] min_samples_leaf=1, max_features=None, max_depth=30 .............\n",
      "[CV]  min_samples_leaf=1, max_features=None, max_depth=30, total=   0.9s\n",
      "[CV] min_samples_leaf=1, max_features=None, max_depth=30 .............\n",
      "[CV]  min_samples_leaf=1, max_features=None, max_depth=30, total=   0.9s\n",
      "[CV] min_samples_leaf=2, max_features=None, max_depth=30 .............\n",
      "[CV]  min_samples_leaf=2, max_features=None, max_depth=30, total=   1.0s\n",
      "[CV] min_samples_leaf=2, max_features=None, max_depth=30 .............\n",
      "[CV]  min_samples_leaf=2, max_features=None, max_depth=30, total=   0.9s\n",
      "[CV] min_samples_leaf=2, max_features=None, max_depth=30 .............\n",
      "[CV]  min_samples_leaf=2, max_features=None, max_depth=30, total=   0.9s\n",
      "[CV] min_samples_leaf=4, max_features=None, max_depth=30 .............\n",
      "[CV]  min_samples_leaf=4, max_features=None, max_depth=30, total=   0.9s\n",
      "[CV] min_samples_leaf=4, max_features=None, max_depth=30 .............\n",
      "[CV]  min_samples_leaf=4, max_features=None, max_depth=30, total=   0.9s\n",
      "[CV] min_samples_leaf=4, max_features=None, max_depth=30 .............\n",
      "[CV]  min_samples_leaf=4, max_features=None, max_depth=30, total=   1.0s\n",
      "[CV] min_samples_leaf=1, max_features=log2, max_depth=30 .............\n",
      "[CV]  min_samples_leaf=1, max_features=log2, max_depth=30, total=   0.8s\n",
      "[CV] min_samples_leaf=1, max_features=log2, max_depth=30 .............\n",
      "[CV]  min_samples_leaf=1, max_features=log2, max_depth=30, total=   0.8s\n",
      "[CV] min_samples_leaf=1, max_features=log2, max_depth=30 .............\n",
      "[CV]  min_samples_leaf=1, max_features=log2, max_depth=30, total=   0.8s\n",
      "[CV] min_samples_leaf=2, max_features=log2, max_depth=30 .............\n",
      "[CV]  min_samples_leaf=2, max_features=log2, max_depth=30, total=   0.8s\n",
      "[CV] min_samples_leaf=2, max_features=log2, max_depth=30 .............\n",
      "[CV]  min_samples_leaf=2, max_features=log2, max_depth=30, total=   0.8s\n",
      "[CV] min_samples_leaf=2, max_features=log2, max_depth=30 .............\n",
      "[CV]  min_samples_leaf=2, max_features=log2, max_depth=30, total=   0.8s\n",
      "[CV] min_samples_leaf=4, max_features=log2, max_depth=30 .............\n",
      "[CV]  min_samples_leaf=4, max_features=log2, max_depth=30, total=   0.7s\n",
      "[CV] min_samples_leaf=4, max_features=log2, max_depth=30 .............\n",
      "[CV]  min_samples_leaf=4, max_features=log2, max_depth=30, total=   0.7s\n",
      "[CV] min_samples_leaf=4, max_features=log2, max_depth=30 .............\n",
      "[CV]  min_samples_leaf=4, max_features=log2, max_depth=30, total=   0.8s\n",
      "[CV] min_samples_leaf=1, max_features=auto, max_depth=40 .............\n",
      "[CV]  min_samples_leaf=1, max_features=auto, max_depth=40, total=   0.8s\n",
      "[CV] min_samples_leaf=1, max_features=auto, max_depth=40 .............\n",
      "[CV]  min_samples_leaf=1, max_features=auto, max_depth=40, total=   0.8s\n",
      "[CV] min_samples_leaf=1, max_features=auto, max_depth=40 .............\n",
      "[CV]  min_samples_leaf=1, max_features=auto, max_depth=40, total=   0.7s\n",
      "[CV] min_samples_leaf=2, max_features=auto, max_depth=40 .............\n",
      "[CV]  min_samples_leaf=2, max_features=auto, max_depth=40, total=   0.7s\n",
      "[CV] min_samples_leaf=2, max_features=auto, max_depth=40 .............\n",
      "[CV]  min_samples_leaf=2, max_features=auto, max_depth=40, total=   0.7s\n",
      "[CV] min_samples_leaf=2, max_features=auto, max_depth=40 .............\n",
      "[CV]  min_samples_leaf=2, max_features=auto, max_depth=40, total=   0.7s\n",
      "[CV] min_samples_leaf=4, max_features=auto, max_depth=40 .............\n",
      "[CV]  min_samples_leaf=4, max_features=auto, max_depth=40, total=   0.7s\n",
      "[CV] min_samples_leaf=4, max_features=auto, max_depth=40 .............\n",
      "[CV]  min_samples_leaf=4, max_features=auto, max_depth=40, total=   0.7s\n",
      "[CV] min_samples_leaf=4, max_features=auto, max_depth=40 .............\n",
      "[CV]  min_samples_leaf=4, max_features=auto, max_depth=40, total=   0.7s\n",
      "[CV] min_samples_leaf=1, max_features=None, max_depth=40 .............\n",
      "[CV]  min_samples_leaf=1, max_features=None, max_depth=40, total=   1.0s\n",
      "[CV] min_samples_leaf=1, max_features=None, max_depth=40 .............\n",
      "[CV]  min_samples_leaf=1, max_features=None, max_depth=40, total=   1.0s\n",
      "[CV] min_samples_leaf=1, max_features=None, max_depth=40 .............\n",
      "[CV]  min_samples_leaf=1, max_features=None, max_depth=40, total=   1.0s\n",
      "[CV] min_samples_leaf=2, max_features=None, max_depth=40 .............\n",
      "[CV]  min_samples_leaf=2, max_features=None, max_depth=40, total=   1.0s\n",
      "[CV] min_samples_leaf=2, max_features=None, max_depth=40 .............\n",
      "[CV]  min_samples_leaf=2, max_features=None, max_depth=40, total=   1.0s\n",
      "[CV] min_samples_leaf=2, max_features=None, max_depth=40 .............\n",
      "[CV]  min_samples_leaf=2, max_features=None, max_depth=40, total=   0.9s\n",
      "[CV] min_samples_leaf=4, max_features=None, max_depth=40 .............\n",
      "[CV]  min_samples_leaf=4, max_features=None, max_depth=40, total=   1.0s\n",
      "[CV] min_samples_leaf=4, max_features=None, max_depth=40 .............\n",
      "[CV]  min_samples_leaf=4, max_features=None, max_depth=40, total=   1.0s\n",
      "[CV] min_samples_leaf=4, max_features=None, max_depth=40 .............\n",
      "[CV]  min_samples_leaf=4, max_features=None, max_depth=40, total=   1.0s\n",
      "[CV] min_samples_leaf=1, max_features=log2, max_depth=40 .............\n",
      "[CV]  min_samples_leaf=1, max_features=log2, max_depth=40, total=   0.8s\n",
      "[CV] min_samples_leaf=1, max_features=log2, max_depth=40 .............\n",
      "[CV]  min_samples_leaf=1, max_features=log2, max_depth=40, total=   0.8s\n",
      "[CV] min_samples_leaf=1, max_features=log2, max_depth=40 .............\n",
      "[CV]  min_samples_leaf=1, max_features=log2, max_depth=40, total=   0.8s\n",
      "[CV] min_samples_leaf=2, max_features=log2, max_depth=40 .............\n",
      "[CV]  min_samples_leaf=2, max_features=log2, max_depth=40, total=   0.7s\n",
      "[CV] min_samples_leaf=2, max_features=log2, max_depth=40 .............\n",
      "[CV]  min_samples_leaf=2, max_features=log2, max_depth=40, total=   0.8s\n",
      "[CV] min_samples_leaf=2, max_features=log2, max_depth=40 .............\n",
      "[CV]  min_samples_leaf=2, max_features=log2, max_depth=40, total=   0.8s\n",
      "[CV] min_samples_leaf=4, max_features=log2, max_depth=40 .............\n",
      "[CV]  min_samples_leaf=4, max_features=log2, max_depth=40, total=   0.7s\n",
      "[CV] min_samples_leaf=4, max_features=log2, max_depth=40 .............\n",
      "[CV]  min_samples_leaf=4, max_features=log2, max_depth=40, total=   0.7s\n",
      "[CV] min_samples_leaf=4, max_features=log2, max_depth=40 .............\n",
      "[CV]  min_samples_leaf=4, max_features=log2, max_depth=40, total=   0.7s\n",
      "[CV] min_samples_leaf=1, max_features=auto, max_depth=50 .............\n",
      "[CV]  min_samples_leaf=1, max_features=auto, max_depth=50, total=   0.7s\n",
      "[CV] min_samples_leaf=1, max_features=auto, max_depth=50 .............\n",
      "[CV]  min_samples_leaf=1, max_features=auto, max_depth=50, total=   0.7s\n",
      "[CV] min_samples_leaf=1, max_features=auto, max_depth=50 .............\n",
      "[CV]  min_samples_leaf=1, max_features=auto, max_depth=50, total=   0.7s\n",
      "[CV] min_samples_leaf=2, max_features=auto, max_depth=50 .............\n",
      "[CV]  min_samples_leaf=2, max_features=auto, max_depth=50, total=   0.7s\n",
      "[CV] min_samples_leaf=2, max_features=auto, max_depth=50 .............\n",
      "[CV]  min_samples_leaf=2, max_features=auto, max_depth=50, total=   0.7s\n",
      "[CV] min_samples_leaf=2, max_features=auto, max_depth=50 .............\n",
      "[CV]  min_samples_leaf=2, max_features=auto, max_depth=50, total=   0.8s\n",
      "[CV] min_samples_leaf=4, max_features=auto, max_depth=50 .............\n",
      "[CV]  min_samples_leaf=4, max_features=auto, max_depth=50, total=   0.7s\n",
      "[CV] min_samples_leaf=4, max_features=auto, max_depth=50 .............\n"
     ]
    },
    {
     "name": "stdout",
     "output_type": "stream",
     "text": [
      "[CV]  min_samples_leaf=4, max_features=auto, max_depth=50, total=   0.7s\n",
      "[CV] min_samples_leaf=4, max_features=auto, max_depth=50 .............\n",
      "[CV]  min_samples_leaf=4, max_features=auto, max_depth=50, total=   0.7s\n",
      "[CV] min_samples_leaf=1, max_features=None, max_depth=50 .............\n",
      "[CV]  min_samples_leaf=1, max_features=None, max_depth=50, total=   1.0s\n",
      "[CV] min_samples_leaf=1, max_features=None, max_depth=50 .............\n",
      "[CV]  min_samples_leaf=1, max_features=None, max_depth=50, total=   1.0s\n",
      "[CV] min_samples_leaf=1, max_features=None, max_depth=50 .............\n",
      "[CV]  min_samples_leaf=1, max_features=None, max_depth=50, total=   1.0s\n",
      "[CV] min_samples_leaf=2, max_features=None, max_depth=50 .............\n",
      "[CV]  min_samples_leaf=2, max_features=None, max_depth=50, total=   1.0s\n",
      "[CV] min_samples_leaf=2, max_features=None, max_depth=50 .............\n",
      "[CV]  min_samples_leaf=2, max_features=None, max_depth=50, total=   0.9s\n",
      "[CV] min_samples_leaf=2, max_features=None, max_depth=50 .............\n",
      "[CV]  min_samples_leaf=2, max_features=None, max_depth=50, total=   0.9s\n",
      "[CV] min_samples_leaf=4, max_features=None, max_depth=50 .............\n",
      "[CV]  min_samples_leaf=4, max_features=None, max_depth=50, total=   0.9s\n",
      "[CV] min_samples_leaf=4, max_features=None, max_depth=50 .............\n",
      "[CV]  min_samples_leaf=4, max_features=None, max_depth=50, total=   0.9s\n",
      "[CV] min_samples_leaf=4, max_features=None, max_depth=50 .............\n",
      "[CV]  min_samples_leaf=4, max_features=None, max_depth=50, total=   0.9s\n",
      "[CV] min_samples_leaf=1, max_features=log2, max_depth=50 .............\n",
      "[CV]  min_samples_leaf=1, max_features=log2, max_depth=50, total=   0.7s\n",
      "[CV] min_samples_leaf=1, max_features=log2, max_depth=50 .............\n",
      "[CV]  min_samples_leaf=1, max_features=log2, max_depth=50, total=   0.7s\n",
      "[CV] min_samples_leaf=1, max_features=log2, max_depth=50 .............\n",
      "[CV]  min_samples_leaf=1, max_features=log2, max_depth=50, total=   0.7s\n",
      "[CV] min_samples_leaf=2, max_features=log2, max_depth=50 .............\n",
      "[CV]  min_samples_leaf=2, max_features=log2, max_depth=50, total=   0.7s\n",
      "[CV] min_samples_leaf=2, max_features=log2, max_depth=50 .............\n",
      "[CV]  min_samples_leaf=2, max_features=log2, max_depth=50, total=   0.7s\n",
      "[CV] min_samples_leaf=2, max_features=log2, max_depth=50 .............\n",
      "[CV]  min_samples_leaf=2, max_features=log2, max_depth=50, total=   0.7s\n",
      "[CV] min_samples_leaf=4, max_features=log2, max_depth=50 .............\n",
      "[CV]  min_samples_leaf=4, max_features=log2, max_depth=50, total=   0.7s\n",
      "[CV] min_samples_leaf=4, max_features=log2, max_depth=50 .............\n",
      "[CV]  min_samples_leaf=4, max_features=log2, max_depth=50, total=   0.7s\n",
      "[CV] min_samples_leaf=4, max_features=log2, max_depth=50 .............\n",
      "[CV]  min_samples_leaf=4, max_features=log2, max_depth=50, total=   0.8s\n",
      "[CV] min_samples_leaf=1, max_features=auto, max_depth=60 .............\n",
      "[CV]  min_samples_leaf=1, max_features=auto, max_depth=60, total=   0.8s\n",
      "[CV] min_samples_leaf=1, max_features=auto, max_depth=60 .............\n",
      "[CV]  min_samples_leaf=1, max_features=auto, max_depth=60, total=   0.8s\n",
      "[CV] min_samples_leaf=1, max_features=auto, max_depth=60 .............\n",
      "[CV]  min_samples_leaf=1, max_features=auto, max_depth=60, total=   0.8s\n",
      "[CV] min_samples_leaf=2, max_features=auto, max_depth=60 .............\n",
      "[CV]  min_samples_leaf=2, max_features=auto, max_depth=60, total=   0.8s\n",
      "[CV] min_samples_leaf=2, max_features=auto, max_depth=60 .............\n",
      "[CV]  min_samples_leaf=2, max_features=auto, max_depth=60, total=   0.9s\n",
      "[CV] min_samples_leaf=2, max_features=auto, max_depth=60 .............\n",
      "[CV]  min_samples_leaf=2, max_features=auto, max_depth=60, total=   0.7s\n",
      "[CV] min_samples_leaf=4, max_features=auto, max_depth=60 .............\n",
      "[CV]  min_samples_leaf=4, max_features=auto, max_depth=60, total=   0.7s\n",
      "[CV] min_samples_leaf=4, max_features=auto, max_depth=60 .............\n",
      "[CV]  min_samples_leaf=4, max_features=auto, max_depth=60, total=   0.7s\n",
      "[CV] min_samples_leaf=4, max_features=auto, max_depth=60 .............\n",
      "[CV]  min_samples_leaf=4, max_features=auto, max_depth=60, total=   0.7s\n",
      "[CV] min_samples_leaf=1, max_features=None, max_depth=60 .............\n",
      "[CV]  min_samples_leaf=1, max_features=None, max_depth=60, total=   0.9s\n",
      "[CV] min_samples_leaf=1, max_features=None, max_depth=60 .............\n",
      "[CV]  min_samples_leaf=1, max_features=None, max_depth=60, total=   1.0s\n",
      "[CV] min_samples_leaf=1, max_features=None, max_depth=60 .............\n",
      "[CV]  min_samples_leaf=1, max_features=None, max_depth=60, total=   0.9s\n",
      "[CV] min_samples_leaf=2, max_features=None, max_depth=60 .............\n",
      "[CV]  min_samples_leaf=2, max_features=None, max_depth=60, total=   0.9s\n",
      "[CV] min_samples_leaf=2, max_features=None, max_depth=60 .............\n",
      "[CV]  min_samples_leaf=2, max_features=None, max_depth=60, total=   1.0s\n",
      "[CV] min_samples_leaf=2, max_features=None, max_depth=60 .............\n",
      "[CV]  min_samples_leaf=2, max_features=None, max_depth=60, total=   0.9s\n",
      "[CV] min_samples_leaf=4, max_features=None, max_depth=60 .............\n",
      "[CV]  min_samples_leaf=4, max_features=None, max_depth=60, total=   0.9s\n",
      "[CV] min_samples_leaf=4, max_features=None, max_depth=60 .............\n",
      "[CV]  min_samples_leaf=4, max_features=None, max_depth=60, total=   0.9s\n",
      "[CV] min_samples_leaf=4, max_features=None, max_depth=60 .............\n",
      "[CV]  min_samples_leaf=4, max_features=None, max_depth=60, total=   0.9s\n",
      "[CV] min_samples_leaf=1, max_features=log2, max_depth=60 .............\n",
      "[CV]  min_samples_leaf=1, max_features=log2, max_depth=60, total=   0.7s\n",
      "[CV] min_samples_leaf=1, max_features=log2, max_depth=60 .............\n",
      "[CV]  min_samples_leaf=1, max_features=log2, max_depth=60, total=   0.8s\n",
      "[CV] min_samples_leaf=1, max_features=log2, max_depth=60 .............\n",
      "[CV]  min_samples_leaf=1, max_features=log2, max_depth=60, total=   0.8s\n",
      "[CV] min_samples_leaf=2, max_features=log2, max_depth=60 .............\n",
      "[CV]  min_samples_leaf=2, max_features=log2, max_depth=60, total=   0.7s\n",
      "[CV] min_samples_leaf=2, max_features=log2, max_depth=60 .............\n",
      "[CV]  min_samples_leaf=2, max_features=log2, max_depth=60, total=   0.7s\n",
      "[CV] min_samples_leaf=2, max_features=log2, max_depth=60 .............\n",
      "[CV]  min_samples_leaf=2, max_features=log2, max_depth=60, total=   0.7s\n",
      "[CV] min_samples_leaf=4, max_features=log2, max_depth=60 .............\n",
      "[CV]  min_samples_leaf=4, max_features=log2, max_depth=60, total=   0.7s\n",
      "[CV] min_samples_leaf=4, max_features=log2, max_depth=60 .............\n",
      "[CV]  min_samples_leaf=4, max_features=log2, max_depth=60, total=   0.7s\n",
      "[CV] min_samples_leaf=4, max_features=log2, max_depth=60 .............\n",
      "[CV]  min_samples_leaf=4, max_features=log2, max_depth=60, total=   0.7s\n",
      "[CV] min_samples_leaf=1, max_features=auto, max_depth=70 .............\n",
      "[CV]  min_samples_leaf=1, max_features=auto, max_depth=70, total=   0.8s\n",
      "[CV] min_samples_leaf=1, max_features=auto, max_depth=70 .............\n",
      "[CV]  min_samples_leaf=1, max_features=auto, max_depth=70, total=   0.8s\n",
      "[CV] min_samples_leaf=1, max_features=auto, max_depth=70 .............\n",
      "[CV]  min_samples_leaf=1, max_features=auto, max_depth=70, total=   0.8s\n",
      "[CV] min_samples_leaf=2, max_features=auto, max_depth=70 .............\n",
      "[CV]  min_samples_leaf=2, max_features=auto, max_depth=70, total=   0.8s\n",
      "[CV] min_samples_leaf=2, max_features=auto, max_depth=70 .............\n",
      "[CV]  min_samples_leaf=2, max_features=auto, max_depth=70, total=   0.8s\n",
      "[CV] min_samples_leaf=2, max_features=auto, max_depth=70 .............\n",
      "[CV]  min_samples_leaf=2, max_features=auto, max_depth=70, total=   0.8s\n",
      "[CV] min_samples_leaf=4, max_features=auto, max_depth=70 .............\n",
      "[CV]  min_samples_leaf=4, max_features=auto, max_depth=70, total=   0.7s\n",
      "[CV] min_samples_leaf=4, max_features=auto, max_depth=70 .............\n",
      "[CV]  min_samples_leaf=4, max_features=auto, max_depth=70, total=   0.7s\n",
      "[CV] min_samples_leaf=4, max_features=auto, max_depth=70 .............\n",
      "[CV]  min_samples_leaf=4, max_features=auto, max_depth=70, total=   0.7s\n",
      "[CV] min_samples_leaf=1, max_features=None, max_depth=70 .............\n",
      "[CV]  min_samples_leaf=1, max_features=None, max_depth=70, total=   0.9s\n",
      "[CV] min_samples_leaf=1, max_features=None, max_depth=70 .............\n"
     ]
    },
    {
     "name": "stdout",
     "output_type": "stream",
     "text": [
      "[CV]  min_samples_leaf=1, max_features=None, max_depth=70, total=   1.0s\n",
      "[CV] min_samples_leaf=1, max_features=None, max_depth=70 .............\n",
      "[CV]  min_samples_leaf=1, max_features=None, max_depth=70, total=   1.1s\n",
      "[CV] min_samples_leaf=2, max_features=None, max_depth=70 .............\n",
      "[CV]  min_samples_leaf=2, max_features=None, max_depth=70, total=   1.2s\n",
      "[CV] min_samples_leaf=2, max_features=None, max_depth=70 .............\n",
      "[CV]  min_samples_leaf=2, max_features=None, max_depth=70, total=   1.2s\n",
      "[CV] min_samples_leaf=2, max_features=None, max_depth=70 .............\n",
      "[CV]  min_samples_leaf=2, max_features=None, max_depth=70, total=   1.0s\n",
      "[CV] min_samples_leaf=4, max_features=None, max_depth=70 .............\n",
      "[CV]  min_samples_leaf=4, max_features=None, max_depth=70, total=   1.0s\n",
      "[CV] min_samples_leaf=4, max_features=None, max_depth=70 .............\n",
      "[CV]  min_samples_leaf=4, max_features=None, max_depth=70, total=   1.0s\n",
      "[CV] min_samples_leaf=4, max_features=None, max_depth=70 .............\n",
      "[CV]  min_samples_leaf=4, max_features=None, max_depth=70, total=   1.0s\n",
      "[CV] min_samples_leaf=1, max_features=log2, max_depth=70 .............\n",
      "[CV]  min_samples_leaf=1, max_features=log2, max_depth=70, total=   0.8s\n",
      "[CV] min_samples_leaf=1, max_features=log2, max_depth=70 .............\n",
      "[CV]  min_samples_leaf=1, max_features=log2, max_depth=70, total=   0.8s\n",
      "[CV] min_samples_leaf=1, max_features=log2, max_depth=70 .............\n",
      "[CV]  min_samples_leaf=1, max_features=log2, max_depth=70, total=   0.8s\n",
      "[CV] min_samples_leaf=2, max_features=log2, max_depth=70 .............\n",
      "[CV]  min_samples_leaf=2, max_features=log2, max_depth=70, total=   0.7s\n",
      "[CV] min_samples_leaf=2, max_features=log2, max_depth=70 .............\n",
      "[CV]  min_samples_leaf=2, max_features=log2, max_depth=70, total=   0.7s\n",
      "[CV] min_samples_leaf=2, max_features=log2, max_depth=70 .............\n",
      "[CV]  min_samples_leaf=2, max_features=log2, max_depth=70, total=   0.8s\n",
      "[CV] min_samples_leaf=4, max_features=log2, max_depth=70 .............\n",
      "[CV]  min_samples_leaf=4, max_features=log2, max_depth=70, total=   0.8s\n",
      "[CV] min_samples_leaf=4, max_features=log2, max_depth=70 .............\n",
      "[CV]  min_samples_leaf=4, max_features=log2, max_depth=70, total=   0.7s\n",
      "[CV] min_samples_leaf=4, max_features=log2, max_depth=70 .............\n",
      "[CV]  min_samples_leaf=4, max_features=log2, max_depth=70, total=   0.7s\n",
      "[CV] min_samples_leaf=1, max_features=auto, max_depth=80 .............\n",
      "[CV]  min_samples_leaf=1, max_features=auto, max_depth=80, total=   0.7s\n",
      "[CV] min_samples_leaf=1, max_features=auto, max_depth=80 .............\n",
      "[CV]  min_samples_leaf=1, max_features=auto, max_depth=80, total=   0.7s\n",
      "[CV] min_samples_leaf=1, max_features=auto, max_depth=80 .............\n",
      "[CV]  min_samples_leaf=1, max_features=auto, max_depth=80, total=   0.7s\n",
      "[CV] min_samples_leaf=2, max_features=auto, max_depth=80 .............\n",
      "[CV]  min_samples_leaf=2, max_features=auto, max_depth=80, total=   0.7s\n",
      "[CV] min_samples_leaf=2, max_features=auto, max_depth=80 .............\n",
      "[CV]  min_samples_leaf=2, max_features=auto, max_depth=80, total=   0.7s\n",
      "[CV] min_samples_leaf=2, max_features=auto, max_depth=80 .............\n",
      "[CV]  min_samples_leaf=2, max_features=auto, max_depth=80, total=   0.7s\n",
      "[CV] min_samples_leaf=4, max_features=auto, max_depth=80 .............\n",
      "[CV]  min_samples_leaf=4, max_features=auto, max_depth=80, total=   0.7s\n",
      "[CV] min_samples_leaf=4, max_features=auto, max_depth=80 .............\n",
      "[CV]  min_samples_leaf=4, max_features=auto, max_depth=80, total=   0.7s\n",
      "[CV] min_samples_leaf=4, max_features=auto, max_depth=80 .............\n",
      "[CV]  min_samples_leaf=4, max_features=auto, max_depth=80, total=   0.7s\n",
      "[CV] min_samples_leaf=1, max_features=None, max_depth=80 .............\n",
      "[CV]  min_samples_leaf=1, max_features=None, max_depth=80, total=   0.9s\n",
      "[CV] min_samples_leaf=1, max_features=None, max_depth=80 .............\n",
      "[CV]  min_samples_leaf=1, max_features=None, max_depth=80, total=   0.9s\n",
      "[CV] min_samples_leaf=1, max_features=None, max_depth=80 .............\n",
      "[CV]  min_samples_leaf=1, max_features=None, max_depth=80, total=   0.9s\n",
      "[CV] min_samples_leaf=2, max_features=None, max_depth=80 .............\n",
      "[CV]  min_samples_leaf=2, max_features=None, max_depth=80, total=   0.9s\n",
      "[CV] min_samples_leaf=2, max_features=None, max_depth=80 .............\n",
      "[CV]  min_samples_leaf=2, max_features=None, max_depth=80, total=   0.9s\n",
      "[CV] min_samples_leaf=2, max_features=None, max_depth=80 .............\n",
      "[CV]  min_samples_leaf=2, max_features=None, max_depth=80, total=   0.9s\n",
      "[CV] min_samples_leaf=4, max_features=None, max_depth=80 .............\n",
      "[CV]  min_samples_leaf=4, max_features=None, max_depth=80, total=   0.9s\n",
      "[CV] min_samples_leaf=4, max_features=None, max_depth=80 .............\n",
      "[CV]  min_samples_leaf=4, max_features=None, max_depth=80, total=   0.9s\n",
      "[CV] min_samples_leaf=4, max_features=None, max_depth=80 .............\n",
      "[CV]  min_samples_leaf=4, max_features=None, max_depth=80, total=   0.9s\n",
      "[CV] min_samples_leaf=1, max_features=log2, max_depth=80 .............\n",
      "[CV]  min_samples_leaf=1, max_features=log2, max_depth=80, total=   0.7s\n",
      "[CV] min_samples_leaf=1, max_features=log2, max_depth=80 .............\n",
      "[CV]  min_samples_leaf=1, max_features=log2, max_depth=80, total=   0.7s\n",
      "[CV] min_samples_leaf=1, max_features=log2, max_depth=80 .............\n",
      "[CV]  min_samples_leaf=1, max_features=log2, max_depth=80, total=   0.7s\n",
      "[CV] min_samples_leaf=2, max_features=log2, max_depth=80 .............\n",
      "[CV]  min_samples_leaf=2, max_features=log2, max_depth=80, total=   0.7s\n",
      "[CV] min_samples_leaf=2, max_features=log2, max_depth=80 .............\n",
      "[CV]  min_samples_leaf=2, max_features=log2, max_depth=80, total=   0.7s\n",
      "[CV] min_samples_leaf=2, max_features=log2, max_depth=80 .............\n",
      "[CV]  min_samples_leaf=2, max_features=log2, max_depth=80, total=   0.7s\n",
      "[CV] min_samples_leaf=4, max_features=log2, max_depth=80 .............\n",
      "[CV]  min_samples_leaf=4, max_features=log2, max_depth=80, total=   0.7s\n",
      "[CV] min_samples_leaf=4, max_features=log2, max_depth=80 .............\n",
      "[CV]  min_samples_leaf=4, max_features=log2, max_depth=80, total=   0.7s\n",
      "[CV] min_samples_leaf=4, max_features=log2, max_depth=80 .............\n",
      "[CV]  min_samples_leaf=4, max_features=log2, max_depth=80, total=   0.7s\n",
      "[CV] min_samples_leaf=1, max_features=auto, max_depth=90 .............\n",
      "[CV]  min_samples_leaf=1, max_features=auto, max_depth=90, total=   0.7s\n",
      "[CV] min_samples_leaf=1, max_features=auto, max_depth=90 .............\n",
      "[CV]  min_samples_leaf=1, max_features=auto, max_depth=90, total=   0.7s\n",
      "[CV] min_samples_leaf=1, max_features=auto, max_depth=90 .............\n",
      "[CV]  min_samples_leaf=1, max_features=auto, max_depth=90, total=   0.7s\n",
      "[CV] min_samples_leaf=2, max_features=auto, max_depth=90 .............\n",
      "[CV]  min_samples_leaf=2, max_features=auto, max_depth=90, total=   0.7s\n",
      "[CV] min_samples_leaf=2, max_features=auto, max_depth=90 .............\n",
      "[CV]  min_samples_leaf=2, max_features=auto, max_depth=90, total=   0.7s\n",
      "[CV] min_samples_leaf=2, max_features=auto, max_depth=90 .............\n",
      "[CV]  min_samples_leaf=2, max_features=auto, max_depth=90, total=   0.8s\n",
      "[CV] min_samples_leaf=4, max_features=auto, max_depth=90 .............\n",
      "[CV]  min_samples_leaf=4, max_features=auto, max_depth=90, total=   0.8s\n",
      "[CV] min_samples_leaf=4, max_features=auto, max_depth=90 .............\n",
      "[CV]  min_samples_leaf=4, max_features=auto, max_depth=90, total=   0.8s\n",
      "[CV] min_samples_leaf=4, max_features=auto, max_depth=90 .............\n",
      "[CV]  min_samples_leaf=4, max_features=auto, max_depth=90, total=   0.9s\n",
      "[CV] min_samples_leaf=1, max_features=None, max_depth=90 .............\n",
      "[CV]  min_samples_leaf=1, max_features=None, max_depth=90, total=   1.1s\n",
      "[CV] min_samples_leaf=1, max_features=None, max_depth=90 .............\n",
      "[CV]  min_samples_leaf=1, max_features=None, max_depth=90, total=   1.0s\n",
      "[CV] min_samples_leaf=1, max_features=None, max_depth=90 .............\n",
      "[CV]  min_samples_leaf=1, max_features=None, max_depth=90, total=   0.9s\n",
      "[CV] min_samples_leaf=2, max_features=None, max_depth=90 .............\n",
      "[CV]  min_samples_leaf=2, max_features=None, max_depth=90, total=   1.0s\n",
      "[CV] min_samples_leaf=2, max_features=None, max_depth=90 .............\n"
     ]
    },
    {
     "name": "stdout",
     "output_type": "stream",
     "text": [
      "[CV]  min_samples_leaf=2, max_features=None, max_depth=90, total=   1.0s\n",
      "[CV] min_samples_leaf=2, max_features=None, max_depth=90 .............\n",
      "[CV]  min_samples_leaf=2, max_features=None, max_depth=90, total=   1.1s\n",
      "[CV] min_samples_leaf=4, max_features=None, max_depth=90 .............\n",
      "[CV]  min_samples_leaf=4, max_features=None, max_depth=90, total=   1.1s\n",
      "[CV] min_samples_leaf=4, max_features=None, max_depth=90 .............\n",
      "[CV]  min_samples_leaf=4, max_features=None, max_depth=90, total=   1.2s\n",
      "[CV] min_samples_leaf=4, max_features=None, max_depth=90 .............\n",
      "[CV]  min_samples_leaf=4, max_features=None, max_depth=90, total=   1.1s\n",
      "[CV] min_samples_leaf=1, max_features=log2, max_depth=90 .............\n",
      "[CV]  min_samples_leaf=1, max_features=log2, max_depth=90, total=   0.9s\n",
      "[CV] min_samples_leaf=1, max_features=log2, max_depth=90 .............\n",
      "[CV]  min_samples_leaf=1, max_features=log2, max_depth=90, total=   0.9s\n",
      "[CV] min_samples_leaf=1, max_features=log2, max_depth=90 .............\n",
      "[CV]  min_samples_leaf=1, max_features=log2, max_depth=90, total=   0.9s\n",
      "[CV] min_samples_leaf=2, max_features=log2, max_depth=90 .............\n",
      "[CV]  min_samples_leaf=2, max_features=log2, max_depth=90, total=   0.9s\n",
      "[CV] min_samples_leaf=2, max_features=log2, max_depth=90 .............\n",
      "[CV]  min_samples_leaf=2, max_features=log2, max_depth=90, total=   0.9s\n",
      "[CV] min_samples_leaf=2, max_features=log2, max_depth=90 .............\n",
      "[CV]  min_samples_leaf=2, max_features=log2, max_depth=90, total=   0.9s\n",
      "[CV] min_samples_leaf=4, max_features=log2, max_depth=90 .............\n",
      "[CV]  min_samples_leaf=4, max_features=log2, max_depth=90, total=   0.9s\n",
      "[CV] min_samples_leaf=4, max_features=log2, max_depth=90 .............\n",
      "[CV]  min_samples_leaf=4, max_features=log2, max_depth=90, total=   0.9s\n",
      "[CV] min_samples_leaf=4, max_features=log2, max_depth=90 .............\n",
      "[CV]  min_samples_leaf=4, max_features=log2, max_depth=90, total=   0.8s\n",
      "[CV] min_samples_leaf=1, max_features=auto, max_depth=None ...........\n",
      "[CV]  min_samples_leaf=1, max_features=auto, max_depth=None, total=   0.8s\n",
      "[CV] min_samples_leaf=1, max_features=auto, max_depth=None ...........\n",
      "[CV]  min_samples_leaf=1, max_features=auto, max_depth=None, total=   0.8s\n",
      "[CV] min_samples_leaf=1, max_features=auto, max_depth=None ...........\n",
      "[CV]  min_samples_leaf=1, max_features=auto, max_depth=None, total=   0.8s\n",
      "[CV] min_samples_leaf=2, max_features=auto, max_depth=None ...........\n",
      "[CV]  min_samples_leaf=2, max_features=auto, max_depth=None, total=   0.8s\n",
      "[CV] min_samples_leaf=2, max_features=auto, max_depth=None ...........\n",
      "[CV]  min_samples_leaf=2, max_features=auto, max_depth=None, total=   0.8s\n",
      "[CV] min_samples_leaf=2, max_features=auto, max_depth=None ...........\n",
      "[CV]  min_samples_leaf=2, max_features=auto, max_depth=None, total=   0.8s\n",
      "[CV] min_samples_leaf=4, max_features=auto, max_depth=None ...........\n",
      "[CV]  min_samples_leaf=4, max_features=auto, max_depth=None, total=   0.9s\n",
      "[CV] min_samples_leaf=4, max_features=auto, max_depth=None ...........\n",
      "[CV]  min_samples_leaf=4, max_features=auto, max_depth=None, total=   0.8s\n",
      "[CV] min_samples_leaf=4, max_features=auto, max_depth=None ...........\n",
      "[CV]  min_samples_leaf=4, max_features=auto, max_depth=None, total=   0.8s\n",
      "[CV] min_samples_leaf=1, max_features=None, max_depth=None ...........\n",
      "[CV]  min_samples_leaf=1, max_features=None, max_depth=None, total=   1.1s\n",
      "[CV] min_samples_leaf=1, max_features=None, max_depth=None ...........\n",
      "[CV]  min_samples_leaf=1, max_features=None, max_depth=None, total=   1.1s\n",
      "[CV] min_samples_leaf=1, max_features=None, max_depth=None ...........\n",
      "[CV]  min_samples_leaf=1, max_features=None, max_depth=None, total=   1.0s\n",
      "[CV] min_samples_leaf=2, max_features=None, max_depth=None ...........\n",
      "[CV]  min_samples_leaf=2, max_features=None, max_depth=None, total=   1.1s\n",
      "[CV] min_samples_leaf=2, max_features=None, max_depth=None ...........\n",
      "[CV]  min_samples_leaf=2, max_features=None, max_depth=None, total=   1.2s\n",
      "[CV] min_samples_leaf=2, max_features=None, max_depth=None ...........\n",
      "[CV]  min_samples_leaf=2, max_features=None, max_depth=None, total=   1.1s\n",
      "[CV] min_samples_leaf=4, max_features=None, max_depth=None ...........\n",
      "[CV]  min_samples_leaf=4, max_features=None, max_depth=None, total=   1.1s\n",
      "[CV] min_samples_leaf=4, max_features=None, max_depth=None ...........\n",
      "[CV]  min_samples_leaf=4, max_features=None, max_depth=None, total=   1.0s\n",
      "[CV] min_samples_leaf=4, max_features=None, max_depth=None ...........\n",
      "[CV]  min_samples_leaf=4, max_features=None, max_depth=None, total=   1.0s\n",
      "[CV] min_samples_leaf=1, max_features=log2, max_depth=None ...........\n",
      "[CV]  min_samples_leaf=1, max_features=log2, max_depth=None, total=   0.9s\n",
      "[CV] min_samples_leaf=1, max_features=log2, max_depth=None ...........\n",
      "[CV]  min_samples_leaf=1, max_features=log2, max_depth=None, total=   0.8s\n",
      "[CV] min_samples_leaf=1, max_features=log2, max_depth=None ...........\n",
      "[CV]  min_samples_leaf=1, max_features=log2, max_depth=None, total=   0.8s\n",
      "[CV] min_samples_leaf=2, max_features=log2, max_depth=None ...........\n",
      "[CV]  min_samples_leaf=2, max_features=log2, max_depth=None, total=   0.7s\n",
      "[CV] min_samples_leaf=2, max_features=log2, max_depth=None ...........\n",
      "[CV]  min_samples_leaf=2, max_features=log2, max_depth=None, total=   0.7s\n",
      "[CV] min_samples_leaf=2, max_features=log2, max_depth=None ...........\n",
      "[CV]  min_samples_leaf=2, max_features=log2, max_depth=None, total=   0.7s\n",
      "[CV] min_samples_leaf=4, max_features=log2, max_depth=None ...........\n",
      "[CV]  min_samples_leaf=4, max_features=log2, max_depth=None, total=   0.7s\n",
      "[CV] min_samples_leaf=4, max_features=log2, max_depth=None ...........\n",
      "[CV]  min_samples_leaf=4, max_features=log2, max_depth=None, total=   0.7s\n",
      "[CV] min_samples_leaf=4, max_features=log2, max_depth=None ...........\n",
      "[CV]  min_samples_leaf=4, max_features=log2, max_depth=None, total=   0.7s\n"
     ]
    },
    {
     "name": "stderr",
     "output_type": "stream",
     "text": [
      "[Parallel(n_jobs=1)]: Done 270 out of 270 | elapsed:  3.7min finished\n"
     ]
    },
    {
     "data": {
      "text/plain": [
       "RandomizedSearchCV(cv=3, error_score='raise-deprecating',\n",
       "                   estimator=RandomForestClassifier(bootstrap=True,\n",
       "                                                    class_weight=None,\n",
       "                                                    criterion='gini',\n",
       "                                                    max_depth=None,\n",
       "                                                    max_features='auto',\n",
       "                                                    max_leaf_nodes=None,\n",
       "                                                    min_impurity_decrease=0.0,\n",
       "                                                    min_impurity_split=None,\n",
       "                                                    min_samples_leaf=1,\n",
       "                                                    min_samples_split=2,\n",
       "                                                    min_weight_fraction_leaf=0.0,\n",
       "                                                    n_estimators=500,\n",
       "                                                    n_jobs=None,\n",
       "                                                    oob_score=False,\n",
       "                                                    random_state=None,\n",
       "                                                    verbose=0,\n",
       "                                                    warm_start=False),\n",
       "                   iid='warn', n_iter=100, n_jobs=None,\n",
       "                   param_distributions={'max_depth': [10, 20, 30, 40, 50, 60,\n",
       "                                                      70, 80, 90, None],\n",
       "                                        'max_features': ['auto', None, 'log2'],\n",
       "                                        'min_samples_leaf': [1, 2, 4]},\n",
       "                   pre_dispatch='2*n_jobs', random_state=42, refit=True,\n",
       "                   return_train_score=False, scoring=None, verbose=2)"
      ]
     },
     "execution_count": 11,
     "metadata": {},
     "output_type": "execute_result"
    }
   ],
   "source": [
    "rf = RandomForestClassifier(n_estimators=500)\n",
    "# Random search of parameters, using 3 fold cross validation, \n",
    "# search across 100 different combinations, and use all available cores\n",
    "rf_random = RandomizedSearchCV(estimator = rf, param_distributions = random_grid, n_iter = 100, cv = 3, verbose=2, random_state=42)\n",
    "# Fit the random search model\n",
    "rf_random.fit(X_train, Y_train)"
   ]
  },
  {
   "cell_type": "code",
   "execution_count": 12,
   "metadata": {},
   "outputs": [
    {
     "data": {
      "text/plain": [
       "{'min_samples_leaf': 1, 'max_features': 'auto', 'max_depth': 30}"
      ]
     },
     "execution_count": 12,
     "metadata": {},
     "output_type": "execute_result"
    }
   ],
   "source": [
    "rf_random.best_params_"
   ]
  },
  {
   "cell_type": "code",
   "execution_count": 13,
   "metadata": {},
   "outputs": [
    {
     "data": {
      "text/plain": [
       "RandomForestClassifier(bootstrap=True, class_weight=None, criterion='gini',\n",
       "                       max_depth=50, max_features='auto', max_leaf_nodes=None,\n",
       "                       min_impurity_decrease=0.0, min_impurity_split=None,\n",
       "                       min_samples_leaf=2, min_samples_split=2,\n",
       "                       min_weight_fraction_leaf=0.0, n_estimators=20,\n",
       "                       n_jobs=None, oob_score=False, random_state=None,\n",
       "                       verbose=0, warm_start=False)"
      ]
     },
     "execution_count": 13,
     "metadata": {},
     "output_type": "execute_result"
    }
   ],
   "source": [
    "forest = RandomForestClassifier(n_estimators=20, min_samples_leaf=2, max_features='auto', max_depth=50)\n",
    "forest.fit(X_train, Y_train)"
   ]
  },
  {
   "cell_type": "code",
   "execution_count": 14,
   "metadata": {},
   "outputs": [
    {
     "name": "stdout",
     "output_type": "stream",
     "text": [
      "[[219  13]\n",
      " [  4 139]]\n",
      "              precision    recall  f1-score   support\n",
      "\n",
      "           0       0.98      0.94      0.96       232\n",
      "           1       0.91      0.97      0.94       143\n",
      "\n",
      "    accuracy                           0.95       375\n",
      "   macro avg       0.95      0.96      0.95       375\n",
      "weighted avg       0.96      0.95      0.95       375\n",
      "\n"
     ]
    }
   ],
   "source": [
    "forestPredictions = forest.predict(X_validation)\n",
    "print(confusion_matrix(Y_validation, forestPredictions))\n",
    "print(classification_report(Y_validation, forestPredictions))"
   ]
  },
  {
   "cell_type": "code",
   "execution_count": 15,
   "metadata": {},
   "outputs": [
    {
     "name": "stdout",
     "output_type": "stream",
     "text": [
      "A6                0.227669\n",
      "A4                0.129533\n",
      "A5                0.117541\n",
      "A9                0.108350\n",
      "A3                0.069525\n",
      "A10               0.065827\n",
      "A7                0.060534\n",
      "A1                0.048943\n",
      "A8                0.044379\n",
      "Age               0.043143\n",
      "A2                0.034390\n",
      "white             0.009125\n",
      "Sex               0.008790\n",
      "Jaundice          0.006719\n",
      "asian             0.006511\n",
      "middle eastern    0.006001\n",
      "latino            0.004661\n",
      "Family_ASD        0.004446\n",
      "south asians      0.001414\n",
      "others            0.000997\n",
      "black             0.000881\n",
      "hispanic          0.000623\n",
      "dtype: float64\n"
     ]
    },
    {
     "data": {
      "text/plain": [
       "<matplotlib.axes._subplots.AxesSubplot at 0x1a216975c0>"
      ]
     },
     "execution_count": 15,
     "metadata": {},
     "output_type": "execute_result"
    },
    {
     "data": {
      "image/png": "[encoded data removed]",
      "text/plain": [
       "<Figure size 504x432 with 1 Axes>"
      ]
     },
     "metadata": {
      "needs_background": "light"
     },
     "output_type": "display_data"
    }
   ],
   "source": [
    "feature_importances = pd.Series(forest.feature_importances_, index=X.columns)\n",
    "feature_importances.sort_values(inplace=True, ascending=False)\n",
    "print(feature_importances)\n",
    "feature_importances.plot(kind='barh', figsize=(7,6))"
   ]
  },
  {
   "cell_type": "markdown",
   "metadata": {},
   "source": [
    "# Logistic regression with parameters determined by stepwise regression (see R script)"
   ]
  },
  {
   "cell_type": "code",
   "execution_count": 22,
   "metadata": {},
   "outputs": [],
   "source": [
    "lr = LogisticRegression()"
   ]
  },
  {
   "cell_type": "code",
   "execution_count": 52,
   "metadata": {},
   "outputs": [],
   "source": [
    "X = df[['A1', 'A2', 'A3', 'A4', 'A5', 'A6', 'A7', 'A8', 'A9', 'A10','Sex', 'Jaundice','hispanic','white']]\n",
    "Y = df['Class']\n",
    "validation_size = 0.20\n",
    "seed = 7\n",
    "X_train, X_validation, Y_train, Y_validation = model_selection.train_test_split(\n",
    "    X, Y, test_size=validation_size, random_state=seed)"
   ]
  },
  {
   "cell_type": "code",
   "execution_count": 53,
   "metadata": {},
   "outputs": [
    {
     "name": "stderr",
     "output_type": "stream",
     "text": [
      "/Users/devinmoya/anaconda/lib/python3.6/site-packages/sklearn/linear_model/logistic.py:432: FutureWarning: Default solver will be changed to 'lbfgs' in 0.22. Specify a solver to silence this warning.\n",
      "  FutureWarning)\n"
     ]
    },
    {
     "data": {
      "text/plain": [
       "LogisticRegression(C=1.0, class_weight=None, dual=False, fit_intercept=True,\n",
       "                   intercept_scaling=1, l1_ratio=None, max_iter=100,\n",
       "                   multi_class='warn', n_jobs=None, penalty='l2',\n",
       "                   random_state=None, solver='warn', tol=0.0001, verbose=0,\n",
       "                   warm_start=False)"
      ]
     },
     "execution_count": 53,
     "metadata": {},
     "output_type": "execute_result"
    }
   ],
   "source": [
    "lr.fit(X_train, Y_train)"
   ]
  },
  {
   "cell_type": "code",
   "execution_count": 54,
   "metadata": {},
   "outputs": [
    {
     "name": "stdout",
     "output_type": "stream",
     "text": [
      "[[232   0]\n",
      " [  0 143]]\n",
      "              precision    recall  f1-score   support\n",
      "\n",
      "           0       1.00      1.00      1.00       232\n",
      "           1       1.00      1.00      1.00       143\n",
      "\n",
      "    accuracy                           1.00       375\n",
      "   macro avg       1.00      1.00      1.00       375\n",
      "weighted avg       1.00      1.00      1.00       375\n",
      "\n"
     ]
    }
   ],
   "source": [
    "lrPredictions = lr.predict(X_validation)\n",
    "print(confusion_matrix(Y_validation, lrPredictions))\n",
    "print(classification_report(Y_validation, lrPredictions))"
   ]
  },
  {
   "cell_type": "markdown",
   "metadata": {},
   "source": [
    "# 100 percent accuarcy. Kind of suspect. will investigate further"
   ]
  },
  {
   "cell_type": "code",
   "execution_count": null,
   "metadata": {},
   "outputs": [],
   "source": []
  }
 ],
 "metadata": {
  "kernelspec": {
   "display_name": "Python 3",
   "language": "python",
   "name": "python3"
  },
  "language_info": {
   "codemirror_mode": {
    "name": "ipython",
    "version": 3
   },
   "file_extension": ".py",
   "mimetype": "text/x-python",
   "name": "python",
   "nbconvert_exporter": "python",
   "pygments_lexer": "ipython3",
   "version": "3.6.9"
  }
 },
 "nbformat": 4,
 "nbformat_minor": 2
}
