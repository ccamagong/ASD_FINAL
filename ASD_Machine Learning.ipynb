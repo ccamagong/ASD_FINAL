{
 "cells": [
  {
   "cell_type": "markdown",
   "metadata": {},
   "source": [
    "## Inport Packages"
   ]
  },
  {
   "cell_type": "code",
   "execution_count": 2,
   "metadata": {},
   "outputs": [],
   "source": [
    "import pandas as pd\n",
    "import numpy as np"
   ]
  },
  {
   "cell_type": "markdown",
   "metadata": {},
   "source": [
    "## Load Data"
   ]
  },
  {
   "cell_type": "code",
   "execution_count": 16,
   "metadata": {},
   "outputs": [],
   "source": [
    "asd_toddler = pd.read_csv('/Users/markzepeda/Desktop/Final Project/R Github Projects/ASD_FINAL/Autism_Toddler.csv')\n",
    "asd_child = pd.read_csv('/Users/markzepeda/Desktop/Final Project/R Github Projects/ASD_FINAL/Autism_Child.csv')\n",
    "asd_adolescent = pd.read_csv('/Users/markzepeda/Desktop/Final Project/R Github Projects/ASD_FINAL/Autism_Adolescent.csv')\n",
    "asd_adult = pd.read_csv('/Users/markzepeda/Desktop/Final Project/R Github Projects/ASD_FINAL/Autism_Adult.csv')\n",
    "asd_all = pd.read_csv('/Users/markzepeda/Desktop/Final Project/R Github Projects/Autism_Child_Adult.csv')"
   ]
  },
  {
   "cell_type": "code",
   "execution_count": 17,
   "metadata": {},
   "outputs": [
    {
     "data": {
      "text/plain": [
       "A1             int64\n",
       "A2             int64\n",
       "A3             int64\n",
       "A4             int64\n",
       "A5             int64\n",
       "A6             int64\n",
       "A7             int64\n",
       "A8             int64\n",
       "A9             int64\n",
       "A10            int64\n",
       "Age            int64\n",
       "Sex           object\n",
       "Ethnicity     object\n",
       "Jaundice      object\n",
       "Family_ASD    object\n",
       "Class         object\n",
       "dtype: object"
      ]
     },
     "execution_count": 17,
     "metadata": {},
     "output_type": "execute_result"
    }
   ],
   "source": [
    "asd_toddler.dtypes"
   ]
  },
  {
   "cell_type": "code",
   "execution_count": 18,
   "metadata": {},
   "outputs": [
    {
     "data": {
      "text/plain": [
       "A1             int64\n",
       "A2             int64\n",
       "A3             int64\n",
       "A4             int64\n",
       "A5             int64\n",
       "A6             int64\n",
       "A7             int64\n",
       "A8             int64\n",
       "A9             int64\n",
       "A10            int64\n",
       "Age            int64\n",
       "Sex           object\n",
       "Ethnicity     object\n",
       "Jaundice      object\n",
       "Family_ASD    object\n",
       "Class         object\n",
       "dtype: object"
      ]
     },
     "execution_count": 18,
     "metadata": {},
     "output_type": "execute_result"
    }
   ],
   "source": [
    "asd_child.dtypes"
   ]
  },
  {
   "cell_type": "code",
   "execution_count": 19,
   "metadata": {},
   "outputs": [
    {
     "data": {
      "text/plain": [
       "A1             int64\n",
       "A2             int64\n",
       "A3             int64\n",
       "A4             int64\n",
       "A5             int64\n",
       "A6             int64\n",
       "A7             int64\n",
       "A8             int64\n",
       "A9             int64\n",
       "A10            int64\n",
       "Age            int64\n",
       "Sex           object\n",
       "Ethnicity     object\n",
       "Jaundice      object\n",
       "Family_ASD    object\n",
       "Class         object\n",
       "dtype: object"
      ]
     },
     "execution_count": 19,
     "metadata": {},
     "output_type": "execute_result"
    }
   ],
   "source": [
    "asd_adolescent.dtypes"
   ]
  },
  {
   "cell_type": "code",
   "execution_count": 20,
   "metadata": {},
   "outputs": [
    {
     "data": {
      "text/plain": [
       "A1             int64\n",
       "A2             int64\n",
       "A3             int64\n",
       "A4             int64\n",
       "A5             int64\n",
       "A6             int64\n",
       "A7             int64\n",
       "A8             int64\n",
       "A9             int64\n",
       "A10            int64\n",
       "Age            int64\n",
       "Sex           object\n",
       "Ethnicity     object\n",
       "Jaundice      object\n",
       "Family_ASD    object\n",
       "Class         object\n",
       "dtype: object"
      ]
     },
     "execution_count": 20,
     "metadata": {},
     "output_type": "execute_result"
    }
   ],
   "source": [
    "asd_adult.dtypes"
   ]
  },
  {
   "cell_type": "code",
   "execution_count": 21,
   "metadata": {},
   "outputs": [
    {
     "data": {
      "text/plain": [
       "A1             int64\n",
       "A2             int64\n",
       "A3             int64\n",
       "A4             int64\n",
       "A5             int64\n",
       "A6             int64\n",
       "A7             int64\n",
       "A8             int64\n",
       "A9             int64\n",
       "A10            int64\n",
       "Age            int64\n",
       "Sex           object\n",
       "Ethnicity     object\n",
       "Jaundice      object\n",
       "Family_ASD    object\n",
       "Class         object\n",
       "dtype: object"
      ]
     },
     "execution_count": 21,
     "metadata": {},
     "output_type": "execute_result"
    }
   ],
   "source": [
    "asd_all.dtypes"
   ]
  },
  {
   "cell_type": "markdown",
   "metadata": {},
   "source": [
    "## Data Wrangling"
   ]
  },
  {
   "cell_type": "markdown",
   "metadata": {},
   "source": [
    "### Recode Sex, Jaundice, Family_ASD"
   ]
  },
  {
   "cell_type": "code",
   "execution_count": 22,
   "metadata": {},
   "outputs": [],
   "source": [
    "cleanup = {\"Sex\": {\"m\": 0, \"f\": 1},\n",
    "          \"Jaundice\": {\"no\": 0, \"yes\": 1},\n",
    "          \"Family_ASD\": {\"no\": 0, \"yes\": 1},\n",
    "          \"Class\": {\"NO\": 0, \"YES\": 1}}"
   ]
  },
  {
   "cell_type": "code",
   "execution_count": 23,
   "metadata": {},
   "outputs": [],
   "source": [
    "asd_toddler.replace(cleanup, inplace=True)"
   ]
  },
  {
   "cell_type": "code",
   "execution_count": 25,
   "metadata": {},
   "outputs": [],
   "source": [
    "asd_child.replace(cleanup, inplace=True)"
   ]
  },
  {
   "cell_type": "code",
   "execution_count": 27,
   "metadata": {},
   "outputs": [],
   "source": [
    "asd_adolescent.replace(cleanup, inplace=True)"
   ]
  },
  {
   "cell_type": "code",
   "execution_count": 29,
   "metadata": {},
   "outputs": [],
   "source": [
    "asd_adult.replace(cleanup, inplace=True)"
   ]
  },
  {
   "cell_type": "code",
   "execution_count": 31,
   "metadata": {},
   "outputs": [
    {
     "data": {
      "text/html": [
       "<div>\n",
       "<style scoped>\n",
       "    .dataframe tbody tr th:only-of-type {\n",
       "        vertical-align: middle;\n",
       "    }\n",
       "\n",
       "    .dataframe tbody tr th {\n",
       "        vertical-align: top;\n",
       "    }\n",
       "\n",
       "    .dataframe thead th {\n",
       "        text-align: right;\n",
       "    }\n",
       "</style>\n",
       "<table border=\"1\" class=\"dataframe\">\n",
       "  <thead>\n",
       "    <tr style=\"text-align: right;\">\n",
       "      <th></th>\n",
       "      <th>A1</th>\n",
       "      <th>A2</th>\n",
       "      <th>A3</th>\n",
       "      <th>A4</th>\n",
       "      <th>A5</th>\n",
       "      <th>A6</th>\n",
       "      <th>A7</th>\n",
       "      <th>A8</th>\n",
       "      <th>A9</th>\n",
       "      <th>A10</th>\n",
       "      <th>Age</th>\n",
       "      <th>Sex</th>\n",
       "      <th>Ethnicity</th>\n",
       "      <th>Jaundice</th>\n",
       "      <th>Family_ASD</th>\n",
       "      <th>Class</th>\n",
       "    </tr>\n",
       "  </thead>\n",
       "  <tbody>\n",
       "    <tr>\n",
       "      <td>0</td>\n",
       "      <td>0</td>\n",
       "      <td>1</td>\n",
       "      <td>1</td>\n",
       "      <td>0</td>\n",
       "      <td>0</td>\n",
       "      <td>1</td>\n",
       "      <td>1</td>\n",
       "      <td>0</td>\n",
       "      <td>0</td>\n",
       "      <td>1</td>\n",
       "      <td>4</td>\n",
       "      <td>0</td>\n",
       "      <td>middle eastern</td>\n",
       "      <td>1</td>\n",
       "      <td>0</td>\n",
       "      <td>0</td>\n",
       "    </tr>\n",
       "    <tr>\n",
       "      <td>1</td>\n",
       "      <td>0</td>\n",
       "      <td>1</td>\n",
       "      <td>1</td>\n",
       "      <td>1</td>\n",
       "      <td>1</td>\n",
       "      <td>1</td>\n",
       "      <td>1</td>\n",
       "      <td>0</td>\n",
       "      <td>0</td>\n",
       "      <td>1</td>\n",
       "      <td>4</td>\n",
       "      <td>0</td>\n",
       "      <td>middle eastern</td>\n",
       "      <td>1</td>\n",
       "      <td>0</td>\n",
       "      <td>1</td>\n",
       "    </tr>\n",
       "    <tr>\n",
       "      <td>2</td>\n",
       "      <td>0</td>\n",
       "      <td>1</td>\n",
       "      <td>1</td>\n",
       "      <td>1</td>\n",
       "      <td>1</td>\n",
       "      <td>1</td>\n",
       "      <td>0</td>\n",
       "      <td>1</td>\n",
       "      <td>1</td>\n",
       "      <td>1</td>\n",
       "      <td>5</td>\n",
       "      <td>0</td>\n",
       "      <td>white</td>\n",
       "      <td>0</td>\n",
       "      <td>0</td>\n",
       "      <td>1</td>\n",
       "    </tr>\n",
       "    <tr>\n",
       "      <td>3</td>\n",
       "      <td>0</td>\n",
       "      <td>1</td>\n",
       "      <td>1</td>\n",
       "      <td>0</td>\n",
       "      <td>1</td>\n",
       "      <td>1</td>\n",
       "      <td>1</td>\n",
       "      <td>0</td>\n",
       "      <td>0</td>\n",
       "      <td>0</td>\n",
       "      <td>4</td>\n",
       "      <td>0</td>\n",
       "      <td>middle eastern</td>\n",
       "      <td>1</td>\n",
       "      <td>0</td>\n",
       "      <td>0</td>\n",
       "    </tr>\n",
       "    <tr>\n",
       "      <td>4</td>\n",
       "      <td>0</td>\n",
       "      <td>0</td>\n",
       "      <td>1</td>\n",
       "      <td>1</td>\n",
       "      <td>1</td>\n",
       "      <td>1</td>\n",
       "      <td>0</td>\n",
       "      <td>1</td>\n",
       "      <td>0</td>\n",
       "      <td>1</td>\n",
       "      <td>5</td>\n",
       "      <td>0</td>\n",
       "      <td>white</td>\n",
       "      <td>0</td>\n",
       "      <td>0</td>\n",
       "      <td>0</td>\n",
       "    </tr>\n",
       "  </tbody>\n",
       "</table>\n",
       "</div>"
      ],
      "text/plain": [
       "   A1  A2  A3  A4  A5  A6  A7  A8  A9  A10  Age  Sex       Ethnicity  \\\n",
       "0   0   1   1   0   0   1   1   0   0    1    4    0  middle eastern   \n",
       "1   0   1   1   1   1   1   1   0   0    1    4    0  middle eastern   \n",
       "2   0   1   1   1   1   1   0   1   1    1    5    0           white   \n",
       "3   0   1   1   0   1   1   1   0   0    0    4    0  middle eastern   \n",
       "4   0   0   1   1   1   1   0   1   0    1    5    0           white   \n",
       "\n",
       "   Jaundice  Family_ASD  Class  \n",
       "0         1           0      0  \n",
       "1         1           0      1  \n",
       "2         0           0      1  \n",
       "3         1           0      0  \n",
       "4         0           0      0  "
      ]
     },
     "execution_count": 31,
     "metadata": {},
     "output_type": "execute_result"
    }
   ],
   "source": [
    "asd_all.replace(cleanup, inplace=True)"
   ]
  },
  {
   "cell_type": "markdown",
   "metadata": {},
   "source": [
    "### Dummy Code Ethnicity"
   ]
  },
  {
   "cell_type": "code",
   "execution_count": 32,
   "metadata": {
    "scrolled": true
   },
   "outputs": [
    {
     "data": {
      "text/plain": [
       "['A1',\n",
       " 'A2',\n",
       " 'A3',\n",
       " 'A4',\n",
       " 'A5',\n",
       " 'A6',\n",
       " 'A7',\n",
       " 'A8',\n",
       " 'A9',\n",
       " 'A10',\n",
       " 'Age',\n",
       " 'Sex',\n",
       " 'Jaundice',\n",
       " 'Family_ASD',\n",
       " 'Class',\n",
       " 'black',\n",
       " 'hispanic',\n",
       " 'latino',\n",
       " 'middle eastern',\n",
       " 'mixed',\n",
       " 'native indian',\n",
       " 'others',\n",
       " 'pacifica',\n",
       " 'south asians',\n",
       " 'white european']"
      ]
     },
     "execution_count": 32,
     "metadata": {},
     "output_type": "execute_result"
    }
   ],
   "source": [
    "EthnicityDummy = pd.get_dummies(asd_toddler['Ethnicity'],drop_first=True)\n",
    "asd_toddler = pd.concat([asd_toddler, EthnicityDummy],axis=1)\n",
    "asd_toddler.drop(['Ethnicity'], axis=1, inplace=True)\n",
    "list(asd_toddler.columns)"
   ]
  },
  {
   "cell_type": "code",
   "execution_count": 33,
   "metadata": {},
   "outputs": [
    {
     "data": {
      "text/plain": [
       "['A1',\n",
       " 'A2',\n",
       " 'A3',\n",
       " 'A4',\n",
       " 'A5',\n",
       " 'A6',\n",
       " 'A7',\n",
       " 'A8',\n",
       " 'A9',\n",
       " 'A10',\n",
       " 'Age',\n",
       " 'Sex',\n",
       " 'Jaundice',\n",
       " 'Family_ASD',\n",
       " 'Class',\n",
       " 'asian',\n",
       " 'black',\n",
       " 'hispanic',\n",
       " 'latino',\n",
       " 'middle eastern',\n",
       " 'others ',\n",
       " 'south asians',\n",
       " 'white']"
      ]
     },
     "execution_count": 33,
     "metadata": {},
     "output_type": "execute_result"
    }
   ],
   "source": [
    "EthnicityDummy = pd.get_dummies(asd_child['Ethnicity'],drop_first=True)\n",
    "asd_child = pd.concat([asd_child, EthnicityDummy],axis=1)\n",
    "asd_child.drop(['Ethnicity'], axis=1, inplace=True)\n",
    "list(asd_child.columns)"
   ]
  },
  {
   "cell_type": "code",
   "execution_count": 34,
   "metadata": {},
   "outputs": [
    {
     "data": {
      "text/plain": [
       "['A1',\n",
       " 'A2',\n",
       " 'A3',\n",
       " 'A4',\n",
       " 'A5',\n",
       " 'A6',\n",
       " 'A7',\n",
       " 'A8',\n",
       " 'A9',\n",
       " 'A10',\n",
       " 'Age',\n",
       " 'Sex',\n",
       " 'Jaundice',\n",
       " 'Family_ASD',\n",
       " 'Class',\n",
       " 'asian',\n",
       " 'black',\n",
       " 'hispanic',\n",
       " 'latino',\n",
       " 'middle eastern',\n",
       " 'others ',\n",
       " 'south asians',\n",
       " 'white']"
      ]
     },
     "execution_count": 34,
     "metadata": {},
     "output_type": "execute_result"
    }
   ],
   "source": [
    "EthnicityDummy = pd.get_dummies(asd_adolescent['Ethnicity'],drop_first=True)\n",
    "asd_adolescent = pd.concat([asd_adolescent, EthnicityDummy],axis=1)\n",
    "asd_adolescent.drop(['Ethnicity'], axis=1, inplace=True)\n",
    "list(asd_adolescent.columns)"
   ]
  },
  {
   "cell_type": "code",
   "execution_count": 35,
   "metadata": {},
   "outputs": [
    {
     "data": {
      "text/plain": [
       "['A1',\n",
       " 'A2',\n",
       " 'A3',\n",
       " 'A4',\n",
       " 'A5',\n",
       " 'A6',\n",
       " 'A7',\n",
       " 'A8',\n",
       " 'A9',\n",
       " 'A10',\n",
       " 'Age',\n",
       " 'Sex',\n",
       " 'Jaundice',\n",
       " 'Family_ASD',\n",
       " 'Class',\n",
       " 'asian',\n",
       " 'black',\n",
       " 'hispanic',\n",
       " 'latino',\n",
       " 'middle eastern',\n",
       " 'others ',\n",
       " 'south asians',\n",
       " 'white']"
      ]
     },
     "execution_count": 35,
     "metadata": {},
     "output_type": "execute_result"
    }
   ],
   "source": [
    "EthnicityDummy = pd.get_dummies(asd_adult['Ethnicity'],drop_first=True)\n",
    "asd_adult = pd.concat([asd_adult, EthnicityDummy],axis=1)\n",
    "asd_adult.drop(['Ethnicity'], axis=1, inplace=True)\n",
    "list(asd_adult.columns)"
   ]
  },
  {
   "cell_type": "code",
   "execution_count": 36,
   "metadata": {},
   "outputs": [
    {
     "data": {
      "text/plain": [
       "['A1',\n",
       " 'A2',\n",
       " 'A3',\n",
       " 'A4',\n",
       " 'A5',\n",
       " 'A6',\n",
       " 'A7',\n",
       " 'A8',\n",
       " 'A9',\n",
       " 'A10',\n",
       " 'Age',\n",
       " 'Sex',\n",
       " 'Jaundice',\n",
       " 'Family_ASD',\n",
       " 'Class',\n",
       " 'asian',\n",
       " 'black',\n",
       " 'hispanic',\n",
       " 'latino',\n",
       " 'middle eastern',\n",
       " 'others',\n",
       " 'south asians',\n",
       " 'white']"
      ]
     },
     "execution_count": 36,
     "metadata": {},
     "output_type": "execute_result"
    }
   ],
   "source": [
    "EthnicityDummy = pd.get_dummies(asd_all['Ethnicity'],drop_first=True)\n",
    "asd_all = pd.concat([asd_all, EthnicityDummy],axis=1)\n",
    "asd_all.drop(['Ethnicity'], axis=1, inplace=True)\n",
    "list(asd_all.columns)"
   ]
  },
  {
   "cell_type": "markdown",
   "metadata": {},
   "source": [
    "## Supervised Learning"
   ]
  },
  {
   "cell_type": "code",
   "execution_count": 38,
   "metadata": {},
   "outputs": [],
   "source": [
    "from sklearn.linear_model import LinearRegression\n",
    "from sklearn.model_selection import train_test_split\n",
    "import matplotlib.pyplot as plt\n",
    "%matplotlib inline\n",
    "from sklearn import metrics"
   ]
  },
  {
   "cell_type": "markdown",
   "metadata": {},
   "source": [
    "## 'Class'"
   ]
  },
  {
   "cell_type": "markdown",
   "metadata": {},
   "source": [
    "### Create Splits Measuring for 'Class'"
   ]
  },
  {
   "cell_type": "code",
   "execution_count": 65,
   "metadata": {},
   "outputs": [],
   "source": [
    "x = asd_all[['A1', 'A2', 'A3', 'A4', 'A5', 'A6', 'A7', 'A8', 'A9', 'A10',\n",
    "             'Age', 'Sex', 'Jaundice', 'Family_ASD', 'asian', 'black',\n",
    "            'hispanic', 'latino', 'middle eastern', 'others', 'south asians',\n",
    "            'white']]"
   ]
  },
  {
   "cell_type": "code",
   "execution_count": 66,
   "metadata": {},
   "outputs": [],
   "source": [
    "y = asd_all['Class']"
   ]
  },
  {
   "cell_type": "code",
   "execution_count": 67,
   "metadata": {},
   "outputs": [],
   "source": [
    "x_train, x_test, y_train, y_test = train_test_split(x,y, test_size = .4, random_state=101)"
   ]
  },
  {
   "cell_type": "code",
   "execution_count": 68,
   "metadata": {},
   "outputs": [
    {
     "name": "stdout",
     "output_type": "stream",
     "text": [
      "(1124, 22) (1124,)\n",
      "(750, 22) (1124,)\n"
     ]
    }
   ],
   "source": [
    "print(x_train.shape, y_train.shape)\n",
    "print(x_test.shape, y_train.shape)"
   ]
  },
  {
   "cell_type": "markdown",
   "metadata": {},
   "source": [
    "### Linear Regression Model\n"
   ]
  },
  {
   "cell_type": "code",
   "execution_count": 69,
   "metadata": {},
   "outputs": [
    {
     "data": {
      "text/plain": [
       "LinearRegression(copy_X=True, fit_intercept=True, n_jobs=None, normalize=False)"
      ]
     },
     "execution_count": 69,
     "metadata": {},
     "output_type": "execute_result"
    }
   ],
   "source": [
    "lm = LinearRegression()\n",
    "lm.fit(x_train, y_train)"
   ]
  },
  {
   "cell_type": "markdown",
   "metadata": {},
   "source": [
    "### Examine Predictions"
   ]
  },
  {
   "cell_type": "code",
   "execution_count": 70,
   "metadata": {},
   "outputs": [
    {
     "data": {
      "text/plain": [
       "array([ 3.99020377e-01,  2.44205956e-01,  8.67548640e-02, -1.92080040e-02,\n",
       "        9.10077694e-01,  7.06703999e-01, -5.74218666e-02,  5.58477491e-01,\n",
       "        3.54996874e-01, -6.98638316e-02,  5.39810062e-02,  4.51191148e-01,\n",
       "        1.10300379e+00, -1.66573011e-01,  8.91576490e-01,  1.11504895e+00,\n",
       "        6.33296402e-02,  8.61078604e-01,  3.81855508e-02,  3.00984946e-01,\n",
       "        5.92230709e-01,  1.00361094e+00,  2.54339436e-01,  5.91898696e-01,\n",
       "        9.54879582e-01,  1.10700281e-01,  2.49256891e-01,  3.63472500e-01,\n",
       "        9.84376339e-01, -1.69168418e-02, -2.93776682e-01,  9.85981560e-01,\n",
       "        7.52392312e-01,  4.29855513e-02,  3.63843591e-01,  1.69709560e-01,\n",
       "        7.72294553e-01,  1.99513755e-01,  6.87720281e-01,  7.11732331e-02,\n",
       "       -8.24895340e-02,  5.19346166e-01,  1.13048196e+00,  2.99938384e-01,\n",
       "       -2.88572899e-01,  7.96900942e-02,  3.34236590e-01,  3.37163398e-01,\n",
       "        5.62928212e-01,  7.45760715e-01,  9.80647342e-01,  6.14849273e-01,\n",
       "        7.85553971e-01,  7.82235394e-01, -9.05034149e-02,  8.04924573e-02,\n",
       "        6.55211137e-01, -7.20663222e-02, -3.12778850e-01, -4.84809729e-01,\n",
       "        5.24123738e-02,  9.55931463e-01,  8.96190319e-01,  3.73713896e-01,\n",
       "       -4.46474952e-01,  1.08559641e-03,  8.96591624e-01,  5.43327093e-01,\n",
       "        2.32085507e-02, -1.83768157e-01,  6.51523706e-01,  7.25278020e-01,\n",
       "        7.64217693e-01, -1.07228836e-01, -1.62025505e-01,  1.05306969e-01,\n",
       "        1.51778762e-01,  5.32314114e-01,  7.94838936e-01,  5.50050080e-01,\n",
       "        9.88529254e-01,  3.26426871e-01, -4.99725712e-02,  3.73874283e-01,\n",
       "        1.11124341e-01,  1.01645271e+00,  4.12209866e-01,  5.71636593e-01,\n",
       "        5.35719838e-01,  9.54852716e-01,  4.51071117e-01,  2.66381420e-01,\n",
       "        5.32184810e-01,  8.46702971e-02,  5.09954244e-01,  8.21533935e-02,\n",
       "        4.92642684e-01,  2.56698219e-01,  6.31080936e-01,  1.62148140e-02,\n",
       "       -2.12564298e-01,  7.83926090e-01,  6.30346558e-01,  1.11302436e+00,\n",
       "        1.08169335e+00,  5.81224984e-01,  3.08755455e-01,  1.04008572e+00,\n",
       "        1.44712391e-01,  3.27692603e-01,  1.12927805e+00,  1.00481486e+00,\n",
       "        8.18211546e-01,  6.60822041e-01,  3.19227233e-01,  6.30314052e-01,\n",
       "        1.00159761e-01, -9.24306844e-03, -1.29787285e-01,  1.57223853e-01,\n",
       "       -1.42570756e-01,  7.43611124e-01,  6.11829257e-01,  2.98914567e-01,\n",
       "        6.40869617e-01,  1.09025937e+00,  4.62913394e-01,  8.02665906e-01,\n",
       "        2.36469182e-01, -2.62476540e-01, -2.02431870e-01,  6.69363995e-01,\n",
       "       -3.89330181e-01,  1.15272943e-01, -1.29278711e-01,  4.51976065e-01,\n",
       "        9.74343706e-01,  7.13102109e-01, -4.41694882e-02,  1.67385319e-01,\n",
       "        6.82817708e-01,  3.05946318e-01, -1.54342641e-02,  1.11395628e+00,\n",
       "       -3.23998395e-01,  1.16142145e-01,  6.23491105e-02,  5.31203546e-01,\n",
       "       -4.02272788e-01,  6.88353464e-01,  4.49027650e-01,  8.53844020e-01,\n",
       "        2.44326357e-01, -9.64553749e-02,  7.97924079e-01,  7.43032087e-02,\n",
       "       -1.60096659e-01,  2.61873872e-01,  7.30896295e-01,  5.81223572e-03,\n",
       "       -1.21001224e-01,  8.17067290e-01, -1.55628423e-01,  4.61176155e-01,\n",
       "        1.28039668e-01,  1.07482820e+00,  4.39633682e-01,  1.15774464e-01,\n",
       "        5.80982184e-01,  3.88736436e-01,  7.04836571e-02,  3.75187288e-01,\n",
       "        5.30479334e-01,  1.14704817e-02,  1.00819321e+00,  3.55980805e-01,\n",
       "        3.09569511e-02,  3.38171530e-01,  2.72019837e-01,  2.02330808e-01,\n",
       "        6.12787399e-01,  5.44984621e-01, -4.68939901e-03,  7.33923739e-02,\n",
       "        4.27655379e-02,  2.40111613e-02,  7.07381613e-01,  8.26752828e-01,\n",
       "        1.10017119e-01,  2.42846091e-01, -1.89725955e-01,  3.76226064e-01,\n",
       "        6.44190364e-01,  8.97542396e-01,  1.56019937e-01,  5.78858350e-02,\n",
       "        1.52722390e-01,  8.16565769e-01, -2.10784392e-01,  4.06452674e-01,\n",
       "       -2.82507940e-01,  1.54336023e-01,  3.98538707e-01,  1.69698962e-02,\n",
       "       -3.56299174e-01,  8.38171051e-01,  2.55765301e-01,  4.31071723e-01,\n",
       "        1.05527364e+00,  5.27097145e-01,  6.99363613e-01,  3.15070779e-01,\n",
       "        7.10172796e-01,  1.51342415e-01, -5.05767262e-01,  1.35745861e-01,\n",
       "        5.86858226e-01,  7.59431564e-02,  1.12406108e+00,  2.54014962e-01,\n",
       "        4.89800468e-02,  4.85408040e-01,  6.21767487e-01,  5.61829761e-01,\n",
       "        8.18695704e-01, -4.44047224e-01,  1.20004335e-01,  5.66230980e-01,\n",
       "       -4.37225034e-01, -4.61832290e-01,  6.21712476e-01,  8.78328669e-01,\n",
       "        9.66187630e-01,  8.12415346e-01,  8.30382530e-01,  6.39270776e-01,\n",
       "        2.56353420e-01,  9.59375299e-01,  2.48245268e-01,  1.04301919e-01,\n",
       "        1.03621083e+00, -1.55628423e-01,  3.27141956e-01,  1.52190185e-01,\n",
       "        2.66381420e-01,  4.00929577e-01,  7.88698362e-01,  9.87357262e-01,\n",
       "        6.35889530e-01,  5.60561543e-01,  7.95558582e-01,  5.30068262e-02,\n",
       "        8.60162455e-01,  1.13638429e+00,  7.14292924e-01, -8.49465555e-02,\n",
       "        1.09710146e+00,  2.60784689e-01,  4.18124423e-01,  3.69622661e-01,\n",
       "        5.39617352e-01,  7.58510614e-01,  3.76601251e-01,  9.50977192e-01,\n",
       "        9.43195454e-01,  5.55644032e-01,  7.97979546e-01,  6.30446654e-01,\n",
       "        6.86086335e-02,  3.78044622e-01,  3.12551239e-02,  5.06697681e-01,\n",
       "        1.00652030e+00, -1.81624559e-01,  7.70261814e-01,  3.79231234e-02,\n",
       "        1.48459476e-01,  7.43855312e-01,  1.00090000e-01,  9.45515480e-01,\n",
       "        5.04322594e-01,  1.63139373e-01,  1.09979334e+00,  1.39889587e-01,\n",
       "        1.08486325e-01,  7.61373581e-01, -4.34817202e-01,  1.03460560e+00,\n",
       "        5.46432910e-01,  5.20113136e-01,  1.30573707e-01,  2.72816944e-01,\n",
       "        8.21516064e-01,  7.81800224e-01,  6.65545453e-01,  7.97537495e-01,\n",
       "       -1.47320916e-01,  1.07482820e+00, -3.51558527e-02,  3.79655427e-01,\n",
       "        7.29910686e-02,  1.32235032e-01,  9.76651323e-01,  4.66945807e-01,\n",
       "        2.15052081e-01,  3.76101512e-01,  1.03267291e+00,  8.36073292e-01,\n",
       "        8.52288351e-01,  8.15658939e-01,  8.69784556e-01,  3.15391022e-01,\n",
       "        6.89726807e-01,  2.91302320e-01,  5.61034178e-01,  9.59543211e-01,\n",
       "        8.85572075e-01,  1.43736395e-01,  4.55417315e-01,  7.75600611e-01,\n",
       "        5.50326216e-01,  1.11154845e+00, -9.01337929e-03, -1.78193374e-01,\n",
       "        4.94430145e-01,  5.59409159e-02,  5.10337598e-01,  3.94445005e-01,\n",
       "        5.59571137e-01,  8.93062622e-02,  3.45037240e-01,  4.57779102e-01,\n",
       "       -5.69218451e-02,  2.49256842e-01,  2.33101593e-01,  4.98666537e-01,\n",
       "        8.33599971e-01,  9.28502841e-01,  9.45315952e-01,  5.97642607e-01,\n",
       "        4.26980189e-01,  9.86833415e-02,  3.76966940e-01,  3.07894662e-01,\n",
       "        2.65574265e-01,  7.22682552e-01,  7.72138039e-01, -1.54825812e-01,\n",
       "        7.26258550e-01,  1.64539660e-01,  4.62134696e-01,  3.57797958e-01,\n",
       "        7.87438394e-01,  4.17073265e-01,  2.24121499e-01, -1.26724057e-01,\n",
       "        9.75156940e-01,  8.08069320e-01,  7.59457497e-01,  3.72411010e-01,\n",
       "        9.95752750e-01, -1.51435855e-01,  1.08905546e+00,  1.36963258e-01,\n",
       "        6.22200354e-01,  9.92584166e-01,  6.07584399e-01,  9.80751901e-01,\n",
       "        4.72471735e-02,  9.28644544e-01,  4.82949045e-01, -4.13475856e-01,\n",
       "        8.09205539e-01,  2.57399806e-02,  6.70750141e-01,  7.97398731e-01,\n",
       "        5.72740375e-01,  2.74759791e-01, -3.89986402e-02,  3.69335109e-01,\n",
       "       -7.18489221e-03, -1.96961989e-02,  7.78719234e-01,  9.54822333e-01,\n",
       "        1.16175769e-01,  5.12617045e-01,  3.62255076e-01,  3.32996086e-01,\n",
       "        2.26070816e-01,  7.54089909e-01,  1.91636241e-02,  8.37870593e-01,\n",
       "        4.10443275e-01, -2.11067301e-01,  1.14525800e-01,  8.80234348e-01,\n",
       "       -1.88277880e-01,  5.37766953e-01,  7.03534634e-01,  5.31301303e-01,\n",
       "        7.69184326e-01,  9.11609030e-01,  4.34072416e-01, -2.18215507e-01,\n",
       "        9.36159766e-01,  1.77176651e-01,  7.82880920e-02,  1.08183196e+00,\n",
       "        7.97403330e-01,  2.79925098e-01,  8.19061126e-01,  1.06811541e+00,\n",
       "        2.10834288e-01, -1.97559065e-01, -4.65866235e-02,  4.65988417e-01,\n",
       "       -4.36422423e-01,  1.49795676e-01,  1.06428716e-01,  9.56384588e-01,\n",
       "        2.74727273e-01,  6.93238533e-02,  9.13689442e-01,  9.19595091e-01,\n",
       "        4.40368595e-01,  5.31695618e-02, -4.30126499e-02, -4.40229979e-03,\n",
       "        9.59543211e-01,  9.96709636e-02,  4.77072164e-01,  1.75230022e-01,\n",
       "        9.76651323e-01,  8.36916495e-01,  1.10300379e+00,  1.49761044e-01,\n",
       "        9.27090485e-01,  7.96462040e-01,  8.46377926e-01,  3.56515519e-01,\n",
       "       -2.49319519e-02,  8.08000988e-01,  1.56019937e-01,  6.11238229e-01,\n",
       "       -1.63708407e-01,  3.81468613e-01,  8.14823178e-01,  1.00732291e+00,\n",
       "        4.91864227e-02,  4.14868399e-01,  4.43547164e-01,  1.05848409e+00,\n",
       "        9.65582687e-01,  3.51298014e-01,  3.13068082e-01,  2.49499756e-01,\n",
       "        9.71404599e-01, -1.77792069e-01,  6.78157112e-01, -6.73183556e-02,\n",
       "        9.84625757e-01,  4.87827586e-01,  8.39559026e-01,  8.67308663e-01,\n",
       "        4.28558361e-01,  1.54077263e-01,  8.12902350e-01,  1.36066565e-01,\n",
       "        1.01766662e+00,  7.53060740e-01,  2.77119070e-01,  8.17974681e-02,\n",
       "        9.88289176e-01, -9.92570561e-02,  1.94213430e-01, -5.08057699e-02,\n",
       "        8.51563092e-01, -3.42284982e-01,  2.97784885e-01,  8.20103042e-01,\n",
       "        8.23033057e-01,  8.85193825e-01,  8.17946028e-01,  7.50901557e-01,\n",
       "        9.74354329e-01, -3.03964819e-03,  2.22670819e-01,  1.70436411e-01,\n",
       "        1.10914062e+00,  8.05762584e-01,  1.06566990e-01,  1.01603437e+00,\n",
       "        6.45689098e-01,  6.16375981e-01, -1.19635316e-01, -1.32475783e-01,\n",
       "       -2.13475133e-01,  7.18608849e-01,  1.42960130e-01,  4.04619353e-01,\n",
       "        1.07967863e-01,  6.30811606e-01,  4.56499375e-01,  3.96014023e-01,\n",
       "        4.89165375e-01, -1.26724057e-01,  1.69040582e-01,  2.47092774e-01,\n",
       "       -9.60275632e-02,  5.12242119e-01,  5.17944475e-01,  6.87720281e-01,\n",
       "        2.83159101e-01,  8.83791380e-01,  3.67203060e-01,  4.13427049e-01,\n",
       "        4.92414315e-01, -2.57811410e-01,  1.12588419e+00,  1.29889706e-01,\n",
       "        8.61026386e-01,  7.76388200e-02,  4.67189834e-01,  1.53299778e-01,\n",
       "       -1.22321964e-01, -3.23338777e-01,  4.17121303e-01,  3.22381799e-01,\n",
       "       -2.35438778e-01,  7.36412483e-01, -1.27285371e-01,  8.80210861e-02,\n",
       "        2.40453502e-02, -7.27002387e-02,  6.42931858e-01, -2.63891704e-01,\n",
       "        4.70682138e-01, -2.61211973e-01, -4.57819237e-01,  9.46041491e-01,\n",
       "       -6.60776133e-02, -4.19116702e-01,  1.31186038e-03,  9.20265890e-01,\n",
       "        2.05770897e-01,  6.54377647e-01,  1.60976284e-01, -1.89269182e-01,\n",
       "        5.63668402e-01,  1.12365977e+00,  5.04755230e-01,  9.72618374e-01,\n",
       "        1.33559779e-01, -5.06247604e-02,  7.87525713e-01,  6.47004380e-01,\n",
       "        8.75317505e-01, -4.32810676e-01, -1.08934905e-01,  9.66385297e-01,\n",
       "       -3.15337591e-01,  1.66400202e-01,  4.07896355e-01,  2.37462213e-01,\n",
       "        6.77228322e-01,  5.95655441e-01, -2.96687275e-02,  4.81594212e-01,\n",
       "        4.00934615e-01, -2.04468780e-01,  2.30481550e-01,  3.67916264e-01,\n",
       "        6.29304173e-01, -2.60862131e-02,  2.54024552e-01,  1.39791500e-01,\n",
       "        8.79214577e-01,  5.32249763e-01,  6.11251233e-01,  5.42442770e-01,\n",
       "        3.71206526e-01,  6.95208805e-01,  9.66668971e-02,  1.90419857e-01,\n",
       "        2.38428044e-01,  9.77152843e-01,  8.63395595e-01, -4.36041014e-01,\n",
       "        8.08281934e-01,  1.39755452e-01, -5.14035328e-02,  3.96508206e-01,\n",
       "       -1.54825812e-01,  9.46862669e-01,  8.68981946e-01,  8.01662005e-01,\n",
       "        8.94042438e-01,  1.67091950e-01, -1.86515513e-01, -7.78507122e-02,\n",
       "        9.85913402e-01,  1.40330015e-01,  1.69647783e-01,  1.00217363e+00,\n",
       "        5.87632498e-01,  1.38004223e-01,  6.19357586e-01,  8.84135378e-02,\n",
       "        7.31365297e-01,  7.71092433e-01,  7.83607981e-01,  7.50307794e-01,\n",
       "        5.38505289e-01, -9.09431823e-02,  3.22381799e-01,  5.09788132e-01,\n",
       "       -4.73813856e-02,  1.29149837e-01,  4.53794603e-01,  9.43934117e-01,\n",
       "        8.89015775e-02, -6.43518651e-02, -3.60877151e-01, -2.73724603e-01,\n",
       "        3.00327749e-01,  4.39409422e-01,  7.91628493e-01, -5.70973504e-02,\n",
       "        7.67049792e-01, -1.30244058e-01,  8.63424478e-02,  8.71354515e-01,\n",
       "        1.15027321e-01,  7.97949163e-01, -2.51320696e-01,  8.13502013e-01,\n",
       "        7.04955827e-01, -3.59509334e-02, -1.56251518e-01, -8.68976144e-02,\n",
       "       -1.25921447e-01, -2.96735801e-02, -4.07613326e-02,  6.78484995e-01,\n",
       "        7.67572965e-01,  2.13797003e-01, -3.63284983e-01,  8.80853193e-01,\n",
       "        3.19837075e-01,  1.82174344e-03,  1.46152492e-01, -1.41651479e-01,\n",
       "        6.34950253e-01,  1.13690285e+00,  9.28502841e-01, -2.38176924e-02,\n",
       "        2.34756093e-01, -1.81861211e-01, -9.05033709e-02, -1.60284467e-01,\n",
       "        6.09363497e-02, -6.08099456e-02,  7.97503911e-01,  6.10252004e-02,\n",
       "        2.82083489e-01,  2.81572160e-01,  8.21979609e-01,  4.27252811e-01,\n",
       "        7.63658460e-01,  3.69734736e-01, -1.33816233e-02,  3.95313620e-01,\n",
       "        5.11294637e-01,  9.73557121e-03,  9.19353871e-01,  3.48116214e-01,\n",
       "        5.05615338e-01,  6.27742501e-01,  6.80422577e-01,  7.31665641e-01,\n",
       "       -5.02234551e-02,  1.07884125e+00,  8.27555438e-01,  9.96315282e-01,\n",
       "        1.06731280e+00,  8.23760280e-01,  1.12646891e+00,  5.36578412e-01,\n",
       "        5.22195706e-01,  5.88319175e-01,  2.12693654e-01,  9.86227182e-01,\n",
       "        1.12474644e+00,  1.46559257e-01,  1.12687021e+00,  1.32806381e-01,\n",
       "        5.66707519e-01,  4.34264160e-01,  1.54549032e-01,  1.12956210e+00,\n",
       "       -2.22742529e-02, -9.85552929e-02, -1.05672697e-01,  2.22515464e-01,\n",
       "       -1.84052213e-01,  7.13947670e-01,  6.89726807e-01, -7.79911906e-02,\n",
       "        4.61176155e-01, -2.42087834e-03,  6.62674117e-01,  4.70594613e-01,\n",
       "        3.59520905e-02,  9.19741821e-01, -5.46185804e-02,  8.39157720e-01,\n",
       "        5.64363131e-01,  2.74335285e-01,  6.14800925e-01,  6.30294157e-01,\n",
       "        6.17051785e-01,  8.01873740e-01,  8.82747626e-01,  5.75555619e-01,\n",
       "        8.56463183e-01,  1.01607560e-01, -3.00934148e-01,  1.08573728e+00,\n",
       "        6.27731718e-01,  9.56859243e-01,  4.69045939e-01,  3.08123998e-01,\n",
       "        3.72323627e-01,  9.14787549e-01,  9.23084402e-01,  1.65270738e-01,\n",
       "        8.13333237e-01,  4.74428778e-02, -4.48517050e-01,  9.42328896e-01,\n",
       "        8.82321886e-01,  2.14344483e-01,  1.06811541e+00, -2.05299363e-01,\n",
       "        7.82019715e-01, -1.74838478e-03,  7.70041216e-02,  6.15400435e-01,\n",
       "        7.69319300e-01,  5.39130279e-01])"
      ]
     },
     "execution_count": 70,
     "metadata": {},
     "output_type": "execute_result"
    }
   ],
   "source": [
    "predictions = lm.predict(x_test)\n",
    "predictions"
   ]
  },
  {
   "cell_type": "code",
   "execution_count": 71,
   "metadata": {},
   "outputs": [
    {
     "data": {
      "text/plain": [
       "<matplotlib.collections.PathCollection at 0x12da5a450>"
      ]
     },
     "execution_count": 71,
     "metadata": {},
     "output_type": "execute_result"
    },
    {
     "data": {
      "image/png": "[encoded data removed]",
      "text/plain": [
       "<Figure size 432x288 with 1 Axes>"
      ]
     },
     "metadata": {
      "needs_background": "light"
     },
     "output_type": "display_data"
    }
   ],
   "source": [
    "plt.scatter(y_test, predictions)"
   ]
  },
  {
   "cell_type": "code",
   "execution_count": 72,
   "metadata": {},
   "outputs": [
    {
     "name": "stdout",
     "output_type": "stream",
     "text": [
      "Score: 0.7024624321043005\n"
     ]
    }
   ],
   "source": [
    "print(\"Score:\", lm.score(x_test, y_test))\n"
   ]
  },
  {
   "cell_type": "markdown",
   "metadata": {},
   "source": [
    "### MAE"
   ]
  },
  {
   "cell_type": "code",
   "execution_count": 73,
   "metadata": {},
   "outputs": [
    {
     "data": {
      "text/plain": [
       "0.2211527361465733"
      ]
     },
     "execution_count": 73,
     "metadata": {},
     "output_type": "execute_result"
    }
   ],
   "source": [
    "metrics.mean_absolute_error(y_test, predictions)"
   ]
  },
  {
   "cell_type": "markdown",
   "metadata": {},
   "source": [
    "### MSE"
   ]
  },
  {
   "cell_type": "code",
   "execution_count": 74,
   "metadata": {},
   "outputs": [
    {
     "data": {
      "text/plain": [
       "0.07164228574819813"
      ]
     },
     "execution_count": 74,
     "metadata": {},
     "output_type": "execute_result"
    }
   ],
   "source": [
    "metrics.mean_squared_error(y_test, predictions)"
   ]
  },
  {
   "cell_type": "markdown",
   "metadata": {},
   "source": [
    "### RMSE"
   ]
  },
  {
   "cell_type": "code",
   "execution_count": 75,
   "metadata": {},
   "outputs": [
    {
     "data": {
      "text/plain": [
       "0.26766076617277723"
      ]
     },
     "execution_count": 75,
     "metadata": {},
     "output_type": "execute_result"
    }
   ],
   "source": [
    "np.sqrt(metrics.mean_squared_error(y_test, predictions))"
   ]
  },
  {
   "cell_type": "markdown",
   "metadata": {},
   "source": [
    "### K-fold"
   ]
  },
  {
   "cell_type": "markdown",
   "metadata": {},
   "source": [
    "#### Import Packages"
   ]
  },
  {
   "cell_type": "code",
   "execution_count": 76,
   "metadata": {},
   "outputs": [],
   "source": [
    "from sklearn.model_selection import KFold\n",
    "from sklearn.model_selection import cross_val_score"
   ]
  },
  {
   "cell_type": "code",
   "execution_count": 77,
   "metadata": {},
   "outputs": [
    {
     "name": "stdout",
     "output_type": "stream",
     "text": [
      "train: [   2    4    5 ... 1871 1872 1873], test: [   0    1    3    8   11   12   16   19   22   30   37   39   40   45\n",
      "   47   48   49   51   53   54   56   58   60   62   65   73   75   80\n",
      "   81   82   83   87   88   91   94   98  101  102  104  107  108  110\n",
      "  111  115  119  120  126  133  135  137  140  142  146  154  158  159\n",
      "  161  167  169  177  181  186  190  192  194  195  198  201  202  204\n",
      "  208  211  223  227  228  231  233  236  241  248  255  258  259  264\n",
      "  267  268  270  275  281  282  283  285  286  288  289  292  293  297\n",
      "  298  299  301  302  303  304  305  308  309  314  321  325  330  331\n",
      "  332  335  336  341  348  351  353  361  366  368  372  375  382  385\n",
      "  386  389  396  399  400  401  403  404  406  408  409  414  415  418\n",
      "  421  422  424  426  427  428  432  434  435  442  443  446  447  453\n",
      "  460  462  464  478  480  481  486  490  491  507  510  512  521  525\n",
      "  527  528  529  531  534  535  536  537  546  547  553  555  556  558\n",
      "  561  563  571  572  573  575  577  579  585  587  589  592  593  596\n",
      "  598  599  602  607  608  612  613  614  619  620  622  623  625  628\n",
      "  631  632  634  636  640  641  643  644  650  653  654  655  660  661\n",
      "  664  669  671  672  674  675  679  683  693  697  698  701  702  703\n",
      "  705  707  708  711  713  718  724  726  729  730  736  737  745  748\n",
      "  750  757  759  763  764  767  769  771  772  774  778  779  791  799\n",
      "  801  804  808  812  815  816  819  820  821  823  828  833  834  839\n",
      "  840  852  854  857  858  861  863  870  872  877  885  887  888  890\n",
      "  893  894  898  899  900  906  913  918  919  922  924  925  926  927\n",
      "  931  936  940  943  948  951  952  955  957  962  969  976  977  979\n",
      "  984  985  987  990  992  995  996  997 1000 1008 1013 1014 1015 1017\n",
      " 1026 1027 1028 1030 1032 1036 1037 1038 1041 1057 1058 1059 1068 1071\n",
      " 1073 1074 1082 1087 1089 1090 1100 1105 1108 1109 1114 1115 1116 1123\n",
      " 1124 1125 1131 1132 1138 1144 1146 1148 1149 1157 1159 1162 1165 1171\n",
      " 1172 1180 1181 1183 1195 1196 1197 1198 1199 1204 1205 1208 1210 1215\n",
      " 1218 1220 1221 1225 1226 1228 1231 1233 1234 1237 1238 1240 1241 1243\n",
      " 1247 1248 1249 1250 1252 1259 1262 1263 1265 1266 1268 1270 1271 1272\n",
      " 1276 1279 1283 1286 1290 1293 1298 1309 1310 1313 1315 1328 1329 1331\n",
      " 1336 1338 1343 1344 1347 1352 1353 1357 1359 1365 1367 1368 1370 1371\n",
      " 1376 1377 1378 1381 1382 1383 1385 1388 1389 1390 1395 1400 1402 1407\n",
      " 1409 1413 1416 1418 1420 1422 1423 1426 1428 1432 1436 1440 1441 1443\n",
      " 1444 1445 1450 1451 1454 1456 1457 1458 1460 1461 1464 1468 1470 1475\n",
      " 1480 1487 1489 1493 1494 1497 1503 1504 1506 1511 1512 1513 1515 1519\n",
      " 1520 1522 1525 1529 1530 1531 1533 1534 1536 1537 1539 1540 1541 1543\n",
      " 1545 1546 1547 1548 1550 1554 1555 1556 1557 1559 1565 1567 1574 1577\n",
      " 1579 1587 1591 1593 1598 1602 1603 1604 1605 1606 1611 1615 1616 1624\n",
      " 1625 1628 1629 1630 1633 1642 1644 1646 1647 1648 1658 1660 1662 1672\n",
      " 1674 1678 1681 1686 1690 1697 1700 1702 1704 1707 1711 1712 1714 1715\n",
      " 1716 1717 1718 1720 1723 1726 1728 1732 1735 1736 1740 1742 1743 1747\n",
      " 1750 1751 1757 1758 1759 1761 1765 1771 1772 1773 1774 1777 1779 1781\n",
      " 1784 1788 1795 1796 1799 1808 1812 1820 1822 1824 1825 1827 1831 1834\n",
      " 1837 1839 1844 1847 1850 1852 1860 1861 1866]\n",
      "train: [   0    1    3 ... 1870 1872 1873], test: [   2    5    6    9   10   13   14   17   23   26   27   28   31   32\n",
      "   33   34   35   38   41   46   50   57   59   61   64   66   67   68\n",
      "   69   72   74   76   78   84   85   89   90   92   97   99  103  106\n",
      "  113  114  116  117  118  121  125  127  131  132  134  136  139  148\n",
      "  151  156  160  163  164  165  172  175  178  180  185  187  188  189\n",
      "  191  193  200  205  207  215  216  218  220  224  226  234  237  238\n",
      "  239  242  244  245  246  247  250  251  254  256  257  260  262  265\n",
      "  274  276  277  280  284  291  294  295  300  306  307  310  311  315\n",
      "  318  320  322  323  326  329  339  340  345  347  349  350  354  355\n",
      "  358  359  363  364  367  370  374  380  381  383  387  388  390  392\n",
      "  393  395  407  411  419  425  429  430  433  436  437  439  441  445\n",
      "  448  449  452  455  457  459  463  466  471  472  473  474  479  482\n",
      "  483  484  487  492  493  494  495  496  498  500  502  503  504  509\n",
      "  516  520  523  530  533  538  541  543  548  549  550  552  554  557\n",
      "  559  560  567  568  570  574  576  578  581  582  584  588  594  597\n",
      "  603  604  616  629  635  638  639  646  647  649  651  659  662  663\n",
      "  665  670  673  676  678  680  682  685  686  688  692  694  699  700\n",
      "  709  710  719  720  723  725  731  733  735  741  742  744  746  752\n",
      "  754  755  761  765  766  768  773  775  776  777  780  782  785  786\n",
      "  789  790  793  797  798  800  802  807  809  810  813  817  824  825\n",
      "  826  827  830  831  841  842  845  846  851  853  855  859  860  862\n",
      "  864  866  867  868  874  876  880  881  891  892  895  897  902  904\n",
      "  909  912  916  920  921  923  929  930  935  937  938  941  942  945\n",
      "  950  953  959  961  966  968  970  972  978  980  982  983  986  991\n",
      "  993  994 1003 1004 1005 1006 1007 1009 1010 1011 1012 1016 1020 1022\n",
      " 1023 1024 1029 1035 1040 1043 1044 1045 1047 1048 1051 1053 1055 1060\n",
      " 1064 1065 1066 1069 1070 1078 1079 1080 1081 1083 1084 1085 1086 1092\n",
      " 1093 1094 1097 1098 1102 1103 1104 1106 1112 1113 1117 1118 1119 1127\n",
      " 1128 1129 1130 1134 1135 1141 1142 1143 1145 1147 1152 1153 1156 1158\n",
      " 1163 1166 1167 1170 1173 1176 1177 1178 1179 1184 1185 1189 1194 1201\n",
      " 1203 1206 1209 1211 1213 1216 1219 1224 1227 1229 1230 1242 1244 1245\n",
      " 1246 1256 1257 1260 1264 1267 1269 1273 1274 1281 1282 1285 1287 1289\n",
      " 1291 1292 1296 1297 1301 1302 1304 1307 1314 1317 1318 1322 1323 1325\n",
      " 1330 1333 1334 1335 1340 1342 1348 1351 1355 1358 1361 1363 1364 1369\n",
      " 1373 1386 1387 1392 1397 1398 1403 1408 1412 1415 1419 1421 1427 1429\n",
      " 1435 1437 1438 1439 1446 1447 1452 1459 1463 1466 1469 1471 1472 1473\n",
      " 1476 1477 1479 1481 1482 1483 1491 1496 1498 1501 1505 1507 1508 1510\n",
      " 1517 1518 1526 1528 1535 1542 1549 1551 1553 1562 1564 1568 1570 1575\n",
      " 1578 1580 1582 1583 1584 1588 1589 1594 1595 1601 1608 1609 1610 1613\n",
      " 1617 1618 1621 1623 1626 1627 1635 1637 1639 1643 1645 1649 1651 1654\n",
      " 1655 1656 1664 1666 1671 1673 1675 1676 1683 1685 1687 1692 1694 1699\n",
      " 1703 1705 1706 1709 1710 1721 1722 1724 1738 1745 1746 1753 1755 1756\n",
      " 1763 1764 1766 1767 1776 1782 1783 1785 1786 1787 1790 1792 1797 1800\n",
      " 1801 1803 1805 1809 1815 1823 1828 1829 1830 1833 1836 1842 1845 1849\n",
      " 1855 1856 1857 1858 1862 1863 1865 1867 1871]\n",
      "train: [   0    1    2 ... 1866 1867 1871], test: [   4    7   15   18   20   21   24   25   29   36   42   43   44   52\n",
      "   55   63   70   71   77   79   86   93   95   96  100  105  109  112\n",
      "  122  123  124  128  129  130  138  141  143  144  145  147  149  150\n",
      "  152  153  155  157  162  166  168  170  171  173  174  176  179  182\n",
      "  183  184  196  197  199  203  206  209  210  212  213  214  217  219\n",
      "  221  222  225  229  230  232  235  240  243  249  252  253  261  263\n",
      "  266  269  271  272  273  278  279  287  290  296  312  313  316  317\n",
      "  319  324  327  328  333  334  337  338  342  343  344  346  352  356\n",
      "  357  360  362  365  369  371  373  376  377  378  379  384  391  394\n",
      "  397  398  402  405  410  412  413  416  417  420  423  431  438  440\n",
      "  444  450  451  454  456  458  461  465  467  468  469  470  475  476\n",
      "  477  485  488  489  497  499  501  505  506  508  511  513  514  515\n",
      "  517  518  519  522  524  526  532  539  540  542  544  545  551  562\n",
      "  564  565  566  569  580  583  586  590  591  595  600  601  605  606\n",
      "  609  610  611  615  617  618  621  624  626  627  630  633  637  642\n",
      "  645  648  652  656  657  658  666  667  668  677  681  684  687  689\n",
      "  690  691  695  696  704  706  712  714  715  716  717  721  722  727\n",
      "  728  732  734  738  739  740  743  747  749  751  753  756  758  760\n",
      "  762  770  781  783  784  787  788  792  794  795  796  803  805  806\n",
      "  811  814  818  822  829  832  835  836  837  838  843  844  847  848\n",
      "  849  850  856  865  869  871  873  875  878  879  882  883  884  886\n",
      "  889  896  901  903  905  907  908  910  911  914  915  917  928  932\n",
      "  933  934  939  944  946  947  949  954  956  958  960  963  964  965\n",
      "  967  971  973  974  975  981  988  989  998  999 1001 1002 1018 1019\n",
      " 1021 1025 1031 1033 1034 1039 1042 1046 1049 1050 1052 1054 1056 1061\n",
      " 1062 1063 1067 1072 1075 1076 1077 1088 1091 1095 1096 1099 1101 1107\n",
      " 1110 1111 1120 1121 1122 1126 1133 1136 1137 1139 1140 1150 1151 1154\n",
      " 1155 1160 1161 1164 1168 1169 1174 1175 1182 1186 1187 1188 1190 1191\n",
      " 1192 1193 1200 1202 1207 1212 1214 1217 1222 1223 1232 1235 1236 1239\n",
      " 1251 1253 1254 1255 1258 1261 1275 1277 1278 1280 1284 1288 1294 1295\n",
      " 1299 1300 1303 1305 1306 1308 1311 1312 1316 1319 1320 1321 1324 1326\n",
      " 1327 1332 1337 1339 1341 1345 1346 1349 1350 1354 1356 1360 1362 1366\n",
      " 1372 1374 1375 1379 1380 1384 1391 1393 1394 1396 1399 1401 1404 1405\n",
      " 1406 1410 1411 1414 1417 1424 1425 1430 1431 1433 1434 1442 1448 1449\n",
      " 1453 1455 1462 1465 1467 1474 1478 1484 1485 1486 1488 1490 1492 1495\n",
      " 1499 1500 1502 1509 1514 1516 1521 1523 1524 1527 1532 1538 1544 1552\n",
      " 1558 1560 1561 1563 1566 1569 1571 1572 1573 1576 1581 1585 1586 1590\n",
      " 1592 1596 1597 1599 1600 1607 1612 1614 1619 1620 1622 1631 1632 1634\n",
      " 1636 1638 1640 1641 1650 1652 1653 1657 1659 1661 1663 1665 1667 1668\n",
      " 1669 1670 1677 1679 1680 1682 1684 1688 1689 1691 1693 1695 1696 1698\n",
      " 1701 1708 1713 1719 1725 1727 1729 1730 1731 1733 1734 1737 1739 1741\n",
      " 1744 1748 1749 1752 1754 1760 1762 1768 1769 1770 1775 1778 1780 1789\n",
      " 1791 1793 1794 1798 1802 1804 1806 1807 1810 1811 1813 1814 1816 1817\n",
      " 1818 1819 1821 1826 1832 1835 1838 1840 1841 1843 1846 1848 1851 1853\n",
      " 1854 1859 1864 1868 1869 1870 1872 1873]\n"
     ]
    }
   ],
   "source": [
    "kfold = KFold(3, True, 1)\n",
    "for train, test in kfold.split(x,y):\n",
    "    print('train: %s, test: %s' % (train,test))"
   ]
  },
  {
   "cell_type": "code",
   "execution_count": 78,
   "metadata": {},
   "outputs": [
    {
     "name": "stdout",
     "output_type": "stream",
     "text": [
      "[0.65022059 0.66870726 0.70229961]\n"
     ]
    }
   ],
   "source": [
    "print(cross_val_score(lm, x,y, cv=3))"
   ]
  },
  {
   "cell_type": "markdown",
   "metadata": {},
   "source": [
    "## 'Jaundice'"
   ]
  },
  {
   "cell_type": "code",
   "execution_count": 105,
   "metadata": {},
   "outputs": [],
   "source": [
    "x = asd_all[['A1', 'A2', 'A3', 'A4', 'A5', 'A6', 'A7', 'A8', 'A9', 'A10',\n",
    "             'Age', 'Sex', 'Family_ASD', 'asian', 'black',\n",
    "            'hispanic', 'latino', 'middle eastern', 'others', 'south asians',\n",
    "            'white']]"
   ]
  },
  {
   "cell_type": "code",
   "execution_count": 106,
   "metadata": {},
   "outputs": [],
   "source": [
    "y = asd_all['Jaundice']"
   ]
  },
  {
   "cell_type": "code",
   "execution_count": 107,
   "metadata": {},
   "outputs": [],
   "source": [
    "x_train, x_test, y_train, y_test = train_test_split(x,y, test_size = .4, random_state=101)"
   ]
  },
  {
   "cell_type": "code",
   "execution_count": 108,
   "metadata": {},
   "outputs": [
    {
     "name": "stdout",
     "output_type": "stream",
     "text": [
      "(1124, 21) (1124,)\n",
      "(750, 21) (1124,)\n"
     ]
    }
   ],
   "source": [
    "print(x_train.shape, y_train.shape)\n",
    "print(x_test.shape, y_train.shape)"
   ]
  },
  {
   "cell_type": "code",
   "execution_count": 109,
   "metadata": {},
   "outputs": [
    {
     "data": {
      "text/plain": [
       "LinearRegression(copy_X=True, fit_intercept=True, n_jobs=None, normalize=False)"
      ]
     },
     "execution_count": 109,
     "metadata": {},
     "output_type": "execute_result"
    }
   ],
   "source": [
    "lm = LinearRegression()\n",
    "lm.fit(x_train, y_train)"
   ]
  },
  {
   "cell_type": "code",
   "execution_count": 110,
   "metadata": {
    "scrolled": false
   },
   "outputs": [
    {
     "data": {
      "text/plain": [
       "array([ 1.40094495e-01,  1.65459144e-01,  1.99257074e-01,  5.52099211e-02,\n",
       "        1.95458431e-01,  2.12637882e-01,  1.06272251e-01,  1.29141364e-01,\n",
       "        2.16330579e-01,  7.86605555e-02,  2.70430416e-01,  1.02592006e-01,\n",
       "        1.76941653e-01,  1.55262827e-02,  1.86817444e-01,  3.15643476e-01,\n",
       "        1.21294776e-01,  1.34723571e-01,  1.11116805e-01,  1.52239584e-01,\n",
       "        1.75863404e-01,  2.51314845e-01,  1.60359160e-01,  2.54910958e-01,\n",
       "        2.07286828e-01,  1.15872071e-01,  2.83252427e-01,  9.83387137e-02,\n",
       "        1.83090506e-01,  1.22031269e-01,  5.39509368e-02,  1.79219095e-01,\n",
       "        1.63829109e-01,  2.15323255e-01,  2.31507150e-01, -7.58322323e-03,\n",
       "        3.02161928e-01,  5.84176035e-02,  2.17721100e-01,  1.06134330e-01,\n",
       "        1.77099104e-03,  8.41017959e-02,  2.04249496e-01,  1.90597673e-01,\n",
       "        7.24056036e-02,  1.27684051e-01,  1.49306340e-01,  1.57041643e-01,\n",
       "        1.15487819e-01,  3.10100297e-01,  1.29925757e-01,  3.31328861e-01,\n",
       "        9.63745399e-02,  2.94221360e-01,  7.76783004e-02,  1.74155747e-02,\n",
       "        1.43393523e-01,  1.59205653e-01,  7.78021556e-02, -1.70835945e-02,\n",
       "        1.36653146e-02,  2.12588430e-01,  1.07360353e-01,  1.59808817e-01,\n",
       "        8.11121823e-02,  8.98627644e-02,  1.06392501e-01,  1.57935060e-01,\n",
       "       -2.14900199e-02,  2.54999377e-02,  4.07014630e-01,  1.83985345e-01,\n",
       "        2.35338245e-01,  3.19541359e-02,  4.48229622e-03,  1.80897675e-01,\n",
       "       -9.43104467e-02,  2.14657363e-01,  6.83446098e-02,  1.49466275e-01,\n",
       "        1.60354180e-01,  6.13832272e-02,  2.30036698e-01,  1.54050511e-01,\n",
       "        1.75685299e-01,  2.20343553e-01,  1.15013864e-01,  8.27013821e-02,\n",
       "        1.14690780e-01,  1.70698279e-01,  1.67448078e-01,  1.79793147e-01,\n",
       "        1.99446839e-01,  2.63143066e-02,  2.41078952e-01,  1.43305140e-01,\n",
       "        1.91810631e-01,  1.25181415e-02,  1.33496881e-01,  1.40133635e-01,\n",
       "        2.75951080e-01,  2.31768781e-01,  1.93514077e-01,  1.99410232e-01,\n",
       "        1.36302475e-01,  1.49359280e-01,  2.36974359e-01,  2.18331954e-01,\n",
       "       -1.30554221e-02,  8.86339366e-02,  2.07153055e-01,  2.48411286e-01,\n",
       "        2.48979880e-01,  1.64691203e-01,  7.34649315e-02,  1.97242111e-01,\n",
       "        2.78323085e-01,  7.53178104e-02,  8.59442375e-02,  8.68254326e-02,\n",
       "        9.51030765e-02,  1.44432078e-01,  2.86174584e-01,  2.37506548e-01,\n",
       "        1.45722942e-01,  2.74872951e-01,  1.42014262e-01,  1.04542347e-01,\n",
       "        1.46061949e-01,  1.59225086e-02,  6.62534126e-02,  7.64859194e-02,\n",
       "       -8.76747155e-02,  1.95935550e-01,  7.48929058e-02,  9.10190206e-02,\n",
       "        2.07286828e-01, -5.70158571e-03,  2.18017968e-01,  1.05218083e-01,\n",
       "        8.99876616e-02,  2.43749329e-01, -8.75241701e-02,  2.12685050e-01,\n",
       "        3.96086348e-02,  1.43026400e-01,  1.60362135e-01, -2.93896056e-02,\n",
       "        1.02078701e-01,  1.97477184e-01,  1.02875573e-01,  1.32686895e-01,\n",
       "        9.96667519e-02, -3.46251100e-02,  1.09938899e-01,  2.89922917e-01,\n",
       "        2.14688434e-02,  2.61064773e-01,  1.70435404e-01,  1.01020989e-01,\n",
       "        8.72714955e-02,  1.63970016e-01,  9.55253983e-02,  1.79971130e-01,\n",
       "        1.56707105e-01,  2.60109842e-01,  6.40487040e-02,  1.11532834e-01,\n",
       "        1.01378731e-01,  6.65369114e-02,  1.45686838e-01,  1.01918982e-01,\n",
       "        2.67773870e-01,  9.00125768e-02,  1.12929389e-01, -1.48554808e-02,\n",
       "        8.11652360e-02,  1.42861473e-01,  1.85608563e-01, -3.82248963e-02,\n",
       "        1.47711250e-01, -8.46979937e-03,  1.70489375e-01,  1.20293692e-01,\n",
       "        1.41175890e-01, -2.34257256e-02,  2.30262581e-01,  1.82026033e-01,\n",
       "        1.36994021e-01,  1.62164056e-02,  8.04649491e-02,  1.24878155e-01,\n",
       "        2.74841073e-01,  2.69006063e-01,  8.97289912e-02,  8.91869566e-02,\n",
       "        9.09098146e-02,  2.48372732e-01,  5.95387387e-02,  9.81709112e-02,\n",
       "        5.55559415e-02,  1.39144746e-01,  2.10751224e-01,  1.78887724e-01,\n",
       "        7.72914041e-02,  1.26490636e-01,  2.06638742e-01,  1.65886840e-01,\n",
       "        3.27829738e-01,  2.27239451e-01, -1.04647391e-01,  2.67144910e-01,\n",
       "        2.33525682e-01, -1.70152862e-02, -6.57735417e-02,  1.81578000e-01,\n",
       "        2.69996997e-01,  8.48880991e-02,  2.19735143e-01,  1.39240919e-01,\n",
       "        1.66707710e-01,  9.36304792e-02,  3.40782128e-01,  2.48083503e-01,\n",
       "        2.09385084e-01,  7.02204845e-02,  7.48068148e-02,  8.20458564e-02,\n",
       "        5.37669855e-02,  6.01313905e-02,  1.18328855e-01,  3.30483883e-01,\n",
       "        1.11374780e-01,  1.57186806e-01,  1.63277285e-01,  1.53538986e-01,\n",
       "        2.98441874e-02,  3.31616828e-01,  2.45592103e-01,  6.63068644e-02,\n",
       "        3.26861885e-01,  9.55253983e-02,  1.20575560e-01,  3.81660644e-02,\n",
       "        1.79793147e-01,  1.62408836e-01,  2.11748597e-01,  2.43572022e-01,\n",
       "        2.28812062e-01,  1.53716672e-01,  1.92883136e-01,  3.82264661e-02,\n",
       "        1.39869763e-01,  1.27856278e-01,  1.91182122e-01,  1.03455337e-01,\n",
       "        2.53334871e-01,  4.77793742e-02,  2.11837567e-01,  1.76041620e-01,\n",
       "        2.31388759e-01,  1.20918210e-01, -7.00090011e-03,  6.53072780e-02,\n",
       "        3.17656323e-01,  1.99806382e-01,  1.31367105e-01,  2.77107883e-01,\n",
       "        2.12222210e-01,  1.68087266e-01, -5.38654901e-02,  1.28041650e-01,\n",
       "        1.61105012e-01,  2.38910322e-03,  2.69760359e-01,  1.28769034e-01,\n",
       "        1.41496226e-01,  1.11558958e-01,  1.93479762e-01,  2.27714533e-01,\n",
       "        1.57226882e-01,  1.19619014e-01,  1.84684476e-01,  1.63349547e-01,\n",
       "        2.38901837e-01,  1.07171724e-01,  4.79598683e-02,  3.30733296e-01,\n",
       "        7.27058964e-02,  1.00265189e-01,  1.01036265e-01,  8.07696412e-02,\n",
       "        1.19715665e-01,  2.09921439e-01,  1.38570409e-01,  2.31526383e-01,\n",
       "        1.32262950e-01,  2.60109842e-01,  3.03037522e-01,  4.53259021e-02,\n",
       "        1.21261545e-01,  5.37763729e-02,  2.84914574e-01,  2.48654504e-02,\n",
       "        5.85774912e-02,  7.98926137e-02,  3.29354878e-01,  3.16135114e-01,\n",
       "        2.42737942e-01,  2.12844532e-01,  1.04627608e-01,  5.50558204e-02,\n",
       "        2.12881835e-01,  1.22327797e-01,  7.17539724e-02,  2.03877754e-01,\n",
       "       -2.25284211e-02,  1.35708156e-01,  2.59656308e-01,  2.09530408e-01,\n",
       "        1.93292131e-01,  2.18492168e-01, -1.03009816e-01,  9.21063446e-02,\n",
       "        7.57546342e-02,  1.53540957e-01,  2.05371017e-01,  3.22537796e-01,\n",
       "        2.98346896e-01, -1.19071181e-02,  2.30581762e-01,  3.21091374e-01,\n",
       "       -1.64860451e-02,  9.66789100e-02,  3.01042597e-03,  2.81521555e-01,\n",
       "        2.04213687e-01,  2.91460223e-01,  1.86211086e-01,  2.03330930e-01,\n",
       "        2.50836341e-01,  1.03303036e-01,  2.45762346e-01,  7.46580456e-02,\n",
       "        1.82143403e-01,  2.81601944e-01,  1.41884586e-01,  9.35896925e-02,\n",
       "        1.44917987e-01,  3.02249360e-02,  2.24361538e-01,  2.55406586e-01,\n",
       "        1.91286918e-01,  8.13939345e-02,  1.65858928e-01,  1.66391867e-02,\n",
       "        9.03477864e-02,  5.87122889e-02,  2.68380686e-01,  8.27727113e-02,\n",
       "        1.42932828e-01,  1.27915154e-01,  2.77776510e-01,  1.26847667e-01,\n",
       "        2.65987960e-01,  1.02093840e-01,  2.50645692e-01,  2.14108006e-01,\n",
       "        1.02789534e-01,  2.60483178e-01,  1.57558472e-01,  2.79100796e-02,\n",
       "        1.00112942e-01,  7.44877687e-02,  2.58474458e-01,  2.09940974e-01,\n",
       "        2.72625434e-01,  6.54967720e-02,  8.46557552e-02,  1.96967986e-01,\n",
       "        1.26163400e-01,  5.24891255e-02,  1.19693659e-01,  1.83367824e-01,\n",
       "        1.10564981e-01,  1.96958720e-01, -2.34794231e-02,  2.29991698e-01,\n",
       "        1.97738911e-01,  2.08817878e-01,  9.44477432e-02,  1.46554826e-01,\n",
       "       -2.06540614e-03,  1.00514738e-01,  2.19299463e-01,  3.06548281e-01,\n",
       "       -7.42008084e-02, -5.46501801e-03, -6.29008165e-02,  1.39108326e-01,\n",
       "        2.26469888e-01,  2.09224730e-01,  1.35659546e-01,  5.92173014e-02,\n",
       "        2.02254020e-01,  5.48740934e-02,  1.94204346e-01,  2.95197861e-01,\n",
       "        2.11394807e-01,  1.16515283e-01,  1.81437576e-01,  2.96858445e-01,\n",
       "        8.09754828e-02,  6.18068362e-03,  8.01402233e-02,  2.19794701e-01,\n",
       "        5.18312798e-02,  1.24197559e-01,  2.37176756e-02,  2.86850280e-01,\n",
       "        1.88510257e-01,  1.08544014e-01,  1.86747755e-01,  1.17990908e-01,\n",
       "        1.06417210e-01,  4.95711941e-02,  5.96386202e-02,  1.15652801e-01,\n",
       "        2.03877754e-01,  2.48702695e-01,  1.62945857e-01,  6.14930011e-02,\n",
       "        2.84914574e-01,  3.03420385e-01,  1.76941653e-01, -2.88087778e-02,\n",
       "        2.06233714e-01,  2.10043768e-01,  2.75760415e-01,  5.44101565e-02,\n",
       "        1.40148194e-01,  1.67833188e-01,  8.97289912e-02,  1.74947899e-01,\n",
       "        3.01795193e-02,  2.56496920e-02,  1.51379689e-01,  1.59169306e-01,\n",
       "        1.25690244e-01,  1.47238335e-01,  2.04933621e-01,  3.20086914e-01,\n",
       "        1.84275380e-01, -3.53934584e-02,  1.23633731e-01,  1.30790963e-01,\n",
       "        9.87926926e-02,  9.11384917e-02,  2.40070951e-01,  1.91895629e-01,\n",
       "        7.71466862e-02,  1.19675797e-01,  1.24541953e-01,  1.12993617e-01,\n",
       "        1.86673392e-01,  1.41405557e-02,  6.86725779e-02,  1.07830098e-01,\n",
       "       -9.45429284e-05,  2.32791039e-01, -2.65467889e-03,  1.41941124e-01,\n",
       "        2.56846840e-01,  2.82985241e-02,  1.00415681e-01,  9.49714360e-02,\n",
       "        2.13828920e-01,  1.13922257e-01,  1.00338628e-01,  1.98215260e-01,\n",
       "        1.40874969e-01,  2.06676516e-01,  1.93025657e-01,  2.66526863e-01,\n",
       "        9.22834921e-02,  8.13916025e-02,  7.05940309e-02,  1.74075228e-01,\n",
       "        2.24299285e-01,  1.91948514e-01,  2.26031513e-01,  7.60011177e-02,\n",
       "        5.40867577e-02,  1.33277448e-01, -4.96554783e-02,  5.40329632e-02,\n",
       "        1.06321855e-01,  2.66461401e-01,  1.52142963e-01,  1.32165833e-01,\n",
       "        1.98692425e-01,  2.66254635e-01,  1.28003809e-01,  1.89622396e-01,\n",
       "        1.43945801e-01,  1.66391867e-02,  5.63217103e-02,  1.36858362e-01,\n",
       "        8.06895919e-02,  1.20709392e-01,  2.18655339e-01,  2.17721100e-01,\n",
       "        1.91070561e-01,  2.11911930e-01,  1.73630970e-01,  1.90466298e-01,\n",
       "        9.01329630e-02, -1.86152243e-02,  2.89511448e-01,  1.15639846e-01,\n",
       "        2.87374649e-01,  2.37386385e-01,  4.74031751e-02,  4.84511275e-02,\n",
       "       -3.46484967e-02,  7.73727613e-02,  6.94451397e-02,  1.88595519e-01,\n",
       "        5.56541796e-02,  3.68356684e-01,  1.01090396e-01,  2.38113798e-02,\n",
       "        3.49048100e-02,  2.99676254e-02,  2.70644655e-01, -6.20190187e-02,\n",
       "        1.39180555e-01,  3.78380217e-02,  5.04528617e-02,  2.40503371e-01,\n",
       "        4.35516741e-02,  1.17930900e-01,  8.86153296e-02,  2.76284122e-01,\n",
       "        1.38958983e-01,  1.66728703e-01, -2.43990367e-02,  1.00925303e-01,\n",
       "        2.26629377e-01,  2.20702995e-01,  2.43622968e-01,  2.99677683e-01,\n",
       "        7.65876263e-02,  5.57210008e-02,  1.61615861e-01,  1.81957943e-01,\n",
       "        1.09516526e-01,  4.31206039e-02,  1.67292095e-02,  1.82339674e-01,\n",
       "        1.46054946e-01,  1.44738633e-01,  1.44756583e-01, -3.92157126e-02,\n",
       "        8.04797977e-02,  1.00699912e-01,  4.67958131e-02,  9.09624340e-02,\n",
       "        2.82859884e-02,  8.37622215e-02,  8.30669938e-02,  2.90546399e-01,\n",
       "        2.79133034e-01,  1.69110957e-01,  1.92999925e-01,  1.44508067e-01,\n",
       "        1.45850666e-01,  2.14789680e-01,  1.96274258e-01,  2.16367808e-01,\n",
       "        3.13353383e-02,  2.44424235e-01,  2.15428051e-01,  2.06078275e-02,\n",
       "        2.85880182e-02,  2.00511858e-01,  2.00427537e-01,  5.59480073e-02,\n",
       "        2.30934842e-01,  1.66674816e-01,  1.41171982e-01,  6.65793846e-02,\n",
       "        9.35896925e-02,  3.30373854e-01,  1.06563314e-01,  2.62755082e-01,\n",
       "        1.80299172e-01,  2.31360062e-01,  7.27221261e-02,  1.82443964e-02,\n",
       "        1.80097712e-01,  1.59629389e-01,  4.30053288e-02,  1.27447182e-01,\n",
       "        1.62476399e-01,  1.09726029e-01,  2.05090129e-02,  1.46100416e-01,\n",
       "        1.25163340e-01,  2.28152161e-02,  2.41555927e-01,  2.12291019e-01,\n",
       "        1.31462766e-01,  1.11840998e-02,  1.88595519e-01,  4.17896018e-02,\n",
       "        1.31015436e-01,  7.89358027e-02,  2.15015391e-01,  2.26246297e-01,\n",
       "        1.13524475e-01,  2.20575190e-01, -7.25844972e-02,  3.65950470e-02,\n",
       "        1.20771670e-01, -4.05043995e-02,  7.60874329e-02,  1.25667606e-01,\n",
       "        2.53719514e-01,  6.54838836e-02, -1.72569702e-02,  1.99533901e-01,\n",
       "        1.34896747e-01,  1.44036650e-01,  8.17412543e-02,  9.24078224e-02,\n",
       "        2.46107770e-01,  6.55682043e-02,  1.39529389e-01,  1.29722808e-01,\n",
       "        1.47034810e-02,  2.64996824e-01,  1.58792285e-01,  2.27712963e-01,\n",
       "        1.92254771e-01,  1.19601926e-01, -6.67773800e-02,  2.05266802e-01,\n",
       "        1.60772645e-01,  6.77389840e-02,  1.66399681e-01,  6.05921338e-02,\n",
       "        7.68058725e-02,  1.88763850e-01,  2.91460223e-01,  5.74858933e-02,\n",
       "        2.53603246e-01,  1.28453613e-01,  4.61863761e-02,  1.54292498e-01,\n",
       "        6.56136358e-02,  1.15281944e-01,  1.49533684e-01,  1.85197687e-01,\n",
       "        8.39260092e-02,  2.40357356e-01,  2.80793749e-01,  9.38696579e-02,\n",
       "        4.03596741e-03,  2.78106590e-02,  1.73208500e-01,  2.64710901e-01,\n",
       "        1.59708634e-01,  9.32418078e-02,  2.57924723e-01,  1.58457915e-01,\n",
       "        2.00881440e-01,  2.21446673e-01,  2.65799341e-01,  1.02885031e-01,\n",
       "        5.47531479e-02,  2.50431313e-01,  1.80090327e-01,  2.37489783e-01,\n",
       "        2.98794151e-01,  2.63416573e-01,  2.13928025e-01,  1.25453351e-01,\n",
       "        2.17308751e-01,  1.16727404e-01,  1.16218560e-01,  2.40257898e-01,\n",
       "        1.55924012e-01, -9.12908484e-03,  2.12960172e-01,  6.59562268e-02,\n",
       "        1.23127662e-03,  1.11995413e-01,  4.49385853e-02,  1.44309777e-01,\n",
       "        1.31672636e-02,  7.26648035e-03,  3.61064272e-02,  2.36181894e-01,\n",
       "        8.83432156e-02,  2.15515213e-01,  2.12881835e-01, -1.26146336e-02,\n",
       "        1.79971130e-01,  5.88643114e-02,  1.50078139e-01,  2.00308594e-01,\n",
       "        2.55678609e-02,  2.68448775e-01,  1.68020637e-01,  1.25509806e-01,\n",
       "        7.09123112e-02,  2.05154851e-01,  1.91551211e-01,  2.02326691e-01,\n",
       "        1.81188396e-01,  2.24113664e-01,  3.21291335e-01,  1.83124218e-01,\n",
       "        2.09708478e-01,  1.39475258e-01,  1.72770015e-01,  2.27760131e-01,\n",
       "        1.37807460e-01,  1.65859015e-01,  2.18815313e-01,  2.03635350e-01,\n",
       "        1.69326624e-01,  1.21167623e-01,  2.57585372e-01,  2.20170437e-02,\n",
       "        2.06149393e-01,  3.60749607e-02,  5.94386595e-02,  2.30117709e-01,\n",
       "        4.04497015e-03,  1.12841519e-01,  2.96858445e-01,  1.07881434e-01,\n",
       "        1.91553964e-01,  2.14310081e-01,  1.11583016e-01,  2.37858674e-01,\n",
       "        1.54425702e-01,  1.70431631e-01])"
      ]
     },
     "execution_count": 110,
     "metadata": {},
     "output_type": "execute_result"
    }
   ],
   "source": [
    "predictions = lm.predict(x_test)\n",
    "predictions"
   ]
  },
  {
   "cell_type": "code",
   "execution_count": 111,
   "metadata": {},
   "outputs": [
    {
     "data": {
      "text/plain": [
       "<matplotlib.collections.PathCollection at 0x119e34590>"
      ]
     },
     "execution_count": 111,
     "metadata": {},
     "output_type": "execute_result"
    },
    {
     "data": {
      "image/png": "[encoded data removed]",
      "text/plain": [
       "<Figure size 432x288 with 1 Axes>"
      ]
     },
     "metadata": {
      "needs_background": "light"
     },
     "output_type": "display_data"
    }
   ],
   "source": [
    "plt.scatter(y_test, predictions)"
   ]
  },
  {
   "cell_type": "code",
   "execution_count": 112,
   "metadata": {},
   "outputs": [
    {
     "name": "stdout",
     "output_type": "stream",
     "text": [
      "Score: 0.025286742274930107\n"
     ]
    }
   ],
   "source": [
    "print(\"Score:\", lm.score(x_test, y_test))"
   ]
  },
  {
   "cell_type": "code",
   "execution_count": 113,
   "metadata": {},
   "outputs": [
    {
     "data": {
      "text/plain": [
       "0.24275765253517873"
      ]
     },
     "execution_count": 113,
     "metadata": {},
     "output_type": "execute_result"
    }
   ],
   "source": [
    "metrics.mean_absolute_error(y_test, predictions)"
   ]
  },
  {
   "cell_type": "code",
   "execution_count": 114,
   "metadata": {},
   "outputs": [
    {
     "data": {
      "text/plain": [
       "0.12473037334099243"
      ]
     },
     "execution_count": 114,
     "metadata": {},
     "output_type": "execute_result"
    }
   ],
   "source": [
    "metrics.mean_squared_error(y_test, predictions)"
   ]
  },
  {
   "cell_type": "code",
   "execution_count": 115,
   "metadata": {},
   "outputs": [
    {
     "data": {
      "text/plain": [
       "0.3531718750707542"
      ]
     },
     "execution_count": 115,
     "metadata": {},
     "output_type": "execute_result"
    }
   ],
   "source": [
    "np.sqrt(metrics.mean_squared_error(y_test, predictions))"
   ]
  },
  {
   "cell_type": "code",
   "execution_count": 116,
   "metadata": {},
   "outputs": [
    {
     "name": "stdout",
     "output_type": "stream",
     "text": [
      "train: [   2    4    5 ... 1871 1872 1873], test: [   0    1    3    8   11   12   16   19   22   30   37   39   40   45\n",
      "   47   48   49   51   53   54   56   58   60   62   65   73   75   80\n",
      "   81   82   83   87   88   91   94   98  101  102  104  107  108  110\n",
      "  111  115  119  120  126  133  135  137  140  142  146  154  158  159\n",
      "  161  167  169  177  181  186  190  192  194  195  198  201  202  204\n",
      "  208  211  223  227  228  231  233  236  241  248  255  258  259  264\n",
      "  267  268  270  275  281  282  283  285  286  288  289  292  293  297\n",
      "  298  299  301  302  303  304  305  308  309  314  321  325  330  331\n",
      "  332  335  336  341  348  351  353  361  366  368  372  375  382  385\n",
      "  386  389  396  399  400  401  403  404  406  408  409  414  415  418\n",
      "  421  422  424  426  427  428  432  434  435  442  443  446  447  453\n",
      "  460  462  464  478  480  481  486  490  491  507  510  512  521  525\n",
      "  527  528  529  531  534  535  536  537  546  547  553  555  556  558\n",
      "  561  563  571  572  573  575  577  579  585  587  589  592  593  596\n",
      "  598  599  602  607  608  612  613  614  619  620  622  623  625  628\n",
      "  631  632  634  636  640  641  643  644  650  653  654  655  660  661\n",
      "  664  669  671  672  674  675  679  683  693  697  698  701  702  703\n",
      "  705  707  708  711  713  718  724  726  729  730  736  737  745  748\n",
      "  750  757  759  763  764  767  769  771  772  774  778  779  791  799\n",
      "  801  804  808  812  815  816  819  820  821  823  828  833  834  839\n",
      "  840  852  854  857  858  861  863  870  872  877  885  887  888  890\n",
      "  893  894  898  899  900  906  913  918  919  922  924  925  926  927\n",
      "  931  936  940  943  948  951  952  955  957  962  969  976  977  979\n",
      "  984  985  987  990  992  995  996  997 1000 1008 1013 1014 1015 1017\n",
      " 1026 1027 1028 1030 1032 1036 1037 1038 1041 1057 1058 1059 1068 1071\n",
      " 1073 1074 1082 1087 1089 1090 1100 1105 1108 1109 1114 1115 1116 1123\n",
      " 1124 1125 1131 1132 1138 1144 1146 1148 1149 1157 1159 1162 1165 1171\n",
      " 1172 1180 1181 1183 1195 1196 1197 1198 1199 1204 1205 1208 1210 1215\n",
      " 1218 1220 1221 1225 1226 1228 1231 1233 1234 1237 1238 1240 1241 1243\n",
      " 1247 1248 1249 1250 1252 1259 1262 1263 1265 1266 1268 1270 1271 1272\n",
      " 1276 1279 1283 1286 1290 1293 1298 1309 1310 1313 1315 1328 1329 1331\n",
      " 1336 1338 1343 1344 1347 1352 1353 1357 1359 1365 1367 1368 1370 1371\n",
      " 1376 1377 1378 1381 1382 1383 1385 1388 1389 1390 1395 1400 1402 1407\n",
      " 1409 1413 1416 1418 1420 1422 1423 1426 1428 1432 1436 1440 1441 1443\n",
      " 1444 1445 1450 1451 1454 1456 1457 1458 1460 1461 1464 1468 1470 1475\n",
      " 1480 1487 1489 1493 1494 1497 1503 1504 1506 1511 1512 1513 1515 1519\n",
      " 1520 1522 1525 1529 1530 1531 1533 1534 1536 1537 1539 1540 1541 1543\n",
      " 1545 1546 1547 1548 1550 1554 1555 1556 1557 1559 1565 1567 1574 1577\n",
      " 1579 1587 1591 1593 1598 1602 1603 1604 1605 1606 1611 1615 1616 1624\n",
      " 1625 1628 1629 1630 1633 1642 1644 1646 1647 1648 1658 1660 1662 1672\n",
      " 1674 1678 1681 1686 1690 1697 1700 1702 1704 1707 1711 1712 1714 1715\n",
      " 1716 1717 1718 1720 1723 1726 1728 1732 1735 1736 1740 1742 1743 1747\n",
      " 1750 1751 1757 1758 1759 1761 1765 1771 1772 1773 1774 1777 1779 1781\n",
      " 1784 1788 1795 1796 1799 1808 1812 1820 1822 1824 1825 1827 1831 1834\n",
      " 1837 1839 1844 1847 1850 1852 1860 1861 1866]\n",
      "train: [   0    1    3 ... 1870 1872 1873], test: [   2    5    6    9   10   13   14   17   23   26   27   28   31   32\n",
      "   33   34   35   38   41   46   50   57   59   61   64   66   67   68\n",
      "   69   72   74   76   78   84   85   89   90   92   97   99  103  106\n",
      "  113  114  116  117  118  121  125  127  131  132  134  136  139  148\n",
      "  151  156  160  163  164  165  172  175  178  180  185  187  188  189\n",
      "  191  193  200  205  207  215  216  218  220  224  226  234  237  238\n",
      "  239  242  244  245  246  247  250  251  254  256  257  260  262  265\n",
      "  274  276  277  280  284  291  294  295  300  306  307  310  311  315\n",
      "  318  320  322  323  326  329  339  340  345  347  349  350  354  355\n",
      "  358  359  363  364  367  370  374  380  381  383  387  388  390  392\n",
      "  393  395  407  411  419  425  429  430  433  436  437  439  441  445\n",
      "  448  449  452  455  457  459  463  466  471  472  473  474  479  482\n",
      "  483  484  487  492  493  494  495  496  498  500  502  503  504  509\n",
      "  516  520  523  530  533  538  541  543  548  549  550  552  554  557\n",
      "  559  560  567  568  570  574  576  578  581  582  584  588  594  597\n",
      "  603  604  616  629  635  638  639  646  647  649  651  659  662  663\n",
      "  665  670  673  676  678  680  682  685  686  688  692  694  699  700\n",
      "  709  710  719  720  723  725  731  733  735  741  742  744  746  752\n",
      "  754  755  761  765  766  768  773  775  776  777  780  782  785  786\n",
      "  789  790  793  797  798  800  802  807  809  810  813  817  824  825\n",
      "  826  827  830  831  841  842  845  846  851  853  855  859  860  862\n",
      "  864  866  867  868  874  876  880  881  891  892  895  897  902  904\n",
      "  909  912  916  920  921  923  929  930  935  937  938  941  942  945\n",
      "  950  953  959  961  966  968  970  972  978  980  982  983  986  991\n",
      "  993  994 1003 1004 1005 1006 1007 1009 1010 1011 1012 1016 1020 1022\n",
      " 1023 1024 1029 1035 1040 1043 1044 1045 1047 1048 1051 1053 1055 1060\n",
      " 1064 1065 1066 1069 1070 1078 1079 1080 1081 1083 1084 1085 1086 1092\n",
      " 1093 1094 1097 1098 1102 1103 1104 1106 1112 1113 1117 1118 1119 1127\n",
      " 1128 1129 1130 1134 1135 1141 1142 1143 1145 1147 1152 1153 1156 1158\n",
      " 1163 1166 1167 1170 1173 1176 1177 1178 1179 1184 1185 1189 1194 1201\n",
      " 1203 1206 1209 1211 1213 1216 1219 1224 1227 1229 1230 1242 1244 1245\n",
      " 1246 1256 1257 1260 1264 1267 1269 1273 1274 1281 1282 1285 1287 1289\n",
      " 1291 1292 1296 1297 1301 1302 1304 1307 1314 1317 1318 1322 1323 1325\n",
      " 1330 1333 1334 1335 1340 1342 1348 1351 1355 1358 1361 1363 1364 1369\n",
      " 1373 1386 1387 1392 1397 1398 1403 1408 1412 1415 1419 1421 1427 1429\n",
      " 1435 1437 1438 1439 1446 1447 1452 1459 1463 1466 1469 1471 1472 1473\n",
      " 1476 1477 1479 1481 1482 1483 1491 1496 1498 1501 1505 1507 1508 1510\n",
      " 1517 1518 1526 1528 1535 1542 1549 1551 1553 1562 1564 1568 1570 1575\n",
      " 1578 1580 1582 1583 1584 1588 1589 1594 1595 1601 1608 1609 1610 1613\n",
      " 1617 1618 1621 1623 1626 1627 1635 1637 1639 1643 1645 1649 1651 1654\n",
      " 1655 1656 1664 1666 1671 1673 1675 1676 1683 1685 1687 1692 1694 1699\n",
      " 1703 1705 1706 1709 1710 1721 1722 1724 1738 1745 1746 1753 1755 1756\n",
      " 1763 1764 1766 1767 1776 1782 1783 1785 1786 1787 1790 1792 1797 1800\n",
      " 1801 1803 1805 1809 1815 1823 1828 1829 1830 1833 1836 1842 1845 1849\n",
      " 1855 1856 1857 1858 1862 1863 1865 1867 1871]\n",
      "train: [   0    1    2 ... 1866 1867 1871], test: [   4    7   15   18   20   21   24   25   29   36   42   43   44   52\n",
      "   55   63   70   71   77   79   86   93   95   96  100  105  109  112\n",
      "  122  123  124  128  129  130  138  141  143  144  145  147  149  150\n",
      "  152  153  155  157  162  166  168  170  171  173  174  176  179  182\n",
      "  183  184  196  197  199  203  206  209  210  212  213  214  217  219\n",
      "  221  222  225  229  230  232  235  240  243  249  252  253  261  263\n",
      "  266  269  271  272  273  278  279  287  290  296  312  313  316  317\n",
      "  319  324  327  328  333  334  337  338  342  343  344  346  352  356\n",
      "  357  360  362  365  369  371  373  376  377  378  379  384  391  394\n",
      "  397  398  402  405  410  412  413  416  417  420  423  431  438  440\n",
      "  444  450  451  454  456  458  461  465  467  468  469  470  475  476\n",
      "  477  485  488  489  497  499  501  505  506  508  511  513  514  515\n",
      "  517  518  519  522  524  526  532  539  540  542  544  545  551  562\n",
      "  564  565  566  569  580  583  586  590  591  595  600  601  605  606\n",
      "  609  610  611  615  617  618  621  624  626  627  630  633  637  642\n",
      "  645  648  652  656  657  658  666  667  668  677  681  684  687  689\n",
      "  690  691  695  696  704  706  712  714  715  716  717  721  722  727\n",
      "  728  732  734  738  739  740  743  747  749  751  753  756  758  760\n",
      "  762  770  781  783  784  787  788  792  794  795  796  803  805  806\n",
      "  811  814  818  822  829  832  835  836  837  838  843  844  847  848\n",
      "  849  850  856  865  869  871  873  875  878  879  882  883  884  886\n",
      "  889  896  901  903  905  907  908  910  911  914  915  917  928  932\n",
      "  933  934  939  944  946  947  949  954  956  958  960  963  964  965\n",
      "  967  971  973  974  975  981  988  989  998  999 1001 1002 1018 1019\n",
      " 1021 1025 1031 1033 1034 1039 1042 1046 1049 1050 1052 1054 1056 1061\n",
      " 1062 1063 1067 1072 1075 1076 1077 1088 1091 1095 1096 1099 1101 1107\n",
      " 1110 1111 1120 1121 1122 1126 1133 1136 1137 1139 1140 1150 1151 1154\n",
      " 1155 1160 1161 1164 1168 1169 1174 1175 1182 1186 1187 1188 1190 1191\n",
      " 1192 1193 1200 1202 1207 1212 1214 1217 1222 1223 1232 1235 1236 1239\n",
      " 1251 1253 1254 1255 1258 1261 1275 1277 1278 1280 1284 1288 1294 1295\n",
      " 1299 1300 1303 1305 1306 1308 1311 1312 1316 1319 1320 1321 1324 1326\n",
      " 1327 1332 1337 1339 1341 1345 1346 1349 1350 1354 1356 1360 1362 1366\n",
      " 1372 1374 1375 1379 1380 1384 1391 1393 1394 1396 1399 1401 1404 1405\n",
      " 1406 1410 1411 1414 1417 1424 1425 1430 1431 1433 1434 1442 1448 1449\n",
      " 1453 1455 1462 1465 1467 1474 1478 1484 1485 1486 1488 1490 1492 1495\n",
      " 1499 1500 1502 1509 1514 1516 1521 1523 1524 1527 1532 1538 1544 1552\n",
      " 1558 1560 1561 1563 1566 1569 1571 1572 1573 1576 1581 1585 1586 1590\n",
      " 1592 1596 1597 1599 1600 1607 1612 1614 1619 1620 1622 1631 1632 1634\n",
      " 1636 1638 1640 1641 1650 1652 1653 1657 1659 1661 1663 1665 1667 1668\n",
      " 1669 1670 1677 1679 1680 1682 1684 1688 1689 1691 1693 1695 1696 1698\n",
      " 1701 1708 1713 1719 1725 1727 1729 1730 1731 1733 1734 1737 1739 1741\n",
      " 1744 1748 1749 1752 1754 1760 1762 1768 1769 1770 1775 1778 1780 1789\n",
      " 1791 1793 1794 1798 1802 1804 1806 1807 1810 1811 1813 1814 1816 1817\n",
      " 1818 1819 1821 1826 1832 1835 1838 1840 1841 1843 1846 1848 1851 1853\n",
      " 1854 1859 1864 1868 1869 1870 1872 1873]\n"
     ]
    }
   ],
   "source": [
    "kfold = KFold(3, True, 1)\n",
    "for train, test in kfold.split(x,y):\n",
    "    print('train: %s, test: %s' % (train,test))"
   ]
  },
  {
   "cell_type": "code",
   "execution_count": 118,
   "metadata": {},
   "outputs": [
    {
     "name": "stdout",
     "output_type": "stream",
     "text": [
      "[-0.05825177 -0.02734986 -0.05475932]\n"
     ]
    }
   ],
   "source": [
    "print(cross_val_score(lm, x,y, cv=3))"
   ]
  },
  {
   "cell_type": "markdown",
   "metadata": {},
   "source": [
    "#### Accuracy is horrible for this model."
   ]
  },
  {
   "cell_type": "markdown",
   "metadata": {},
   "source": [
    "## Random Forest"
   ]
  },
  {
   "cell_type": "markdown",
   "metadata": {},
   "source": [
    "## 'Class'"
   ]
  },
  {
   "cell_type": "markdown",
   "metadata": {},
   "source": [
    "### Import Packages"
   ]
  },
  {
   "cell_type": "code",
   "execution_count": 129,
   "metadata": {},
   "outputs": [],
   "source": [
    "import pandas as pd\n",
    "import numpy as np\n",
    "import matplotlib.pyplot as plt\n",
    "import seaborn as sns\n",
    "%matplotlib inline\n",
    "from sklearn.ensemble import RandomForestClassifier"
   ]
  },
  {
   "cell_type": "code",
   "execution_count": 135,
   "metadata": {},
   "outputs": [],
   "source": [
    "x = asd_all.drop('Class', axis=1)\n",
    "y = asd_all['Class']"
   ]
  },
  {
   "cell_type": "markdown",
   "metadata": {},
   "source": [
    "### Train Test Split"
   ]
  },
  {
   "cell_type": "code",
   "execution_count": 136,
   "metadata": {},
   "outputs": [],
   "source": [
    "x_train, x_test, y_train, y_test = train_test_split(x,y, test_size=0.3, random_state=76)\n"
   ]
  },
  {
   "cell_type": "markdown",
   "metadata": {},
   "source": [
    "### Initial Random Forest Model"
   ]
  },
  {
   "cell_type": "code",
   "execution_count": 137,
   "metadata": {},
   "outputs": [
    {
     "data": {
      "text/plain": [
       "RandomForestClassifier(bootstrap=True, class_weight=None, criterion='gini',\n",
       "                       max_depth=None, max_features='auto', max_leaf_nodes=None,\n",
       "                       min_impurity_decrease=0.0, min_impurity_split=None,\n",
       "                       min_samples_leaf=1, min_samples_split=2,\n",
       "                       min_weight_fraction_leaf=0.0, n_estimators=500,\n",
       "                       n_jobs=None, oob_score=False, random_state=76, verbose=0,\n",
       "                       warm_start=False)"
      ]
     },
     "execution_count": 137,
     "metadata": {},
     "output_type": "execute_result"
    }
   ],
   "source": [
    "forest = RandomForestClassifier(n_estimators=500, random_state=76)\n",
    "forest.fit(x_train, y_train)"
   ]
  },
  {
   "cell_type": "markdown",
   "metadata": {},
   "source": [
    "### Assess the Model"
   ]
  },
  {
   "cell_type": "code",
   "execution_count": 138,
   "metadata": {},
   "outputs": [
    {
     "name": "stdout",
     "output_type": "stream",
     "text": [
      "[[341  12]\n",
      " [  7 203]]\n",
      "              precision    recall  f1-score   support\n",
      "\n",
      "           0       0.98      0.97      0.97       353\n",
      "           1       0.94      0.97      0.96       210\n",
      "\n",
      "    accuracy                           0.97       563\n",
      "   macro avg       0.96      0.97      0.96       563\n",
      "weighted avg       0.97      0.97      0.97       563\n",
      "\n"
     ]
    }
   ],
   "source": [
    "forestPredictions = forest.predict(x_test)\n",
    "print(confusion_matrix(y_test, forestPredictions))\n",
    "print(classification_report(y_test, forestPredictions))"
   ]
  },
  {
   "cell_type": "code",
   "execution_count": 139,
   "metadata": {},
   "outputs": [
    {
     "name": "stdout",
     "output_type": "stream",
     "text": [
      "[[341  12]\n",
      " [  7 203]]\n"
     ]
    }
   ],
   "source": [
    "print(confusion_matrix(y_test, forestPredictions))"
   ]
  },
  {
   "cell_type": "markdown",
   "metadata": {},
   "source": [
    "## 'Jaundice' Random Forest Model"
   ]
  },
  {
   "cell_type": "code",
   "execution_count": 140,
   "metadata": {},
   "outputs": [],
   "source": [
    "x = asd_all.drop('Jaundice', axis=1)\n",
    "y = asd_all['Jaundice']"
   ]
  },
  {
   "cell_type": "code",
   "execution_count": 141,
   "metadata": {},
   "outputs": [],
   "source": [
    "x_train, x_test, y_train, y_test = train_test_split(x,y, test_size=0.3, random_state=76)"
   ]
  },
  {
   "cell_type": "code",
   "execution_count": 142,
   "metadata": {},
   "outputs": [
    {
     "data": {
      "text/plain": [
       "RandomForestClassifier(bootstrap=True, class_weight=None, criterion='gini',\n",
       "                       max_depth=None, max_features='auto', max_leaf_nodes=None,\n",
       "                       min_impurity_decrease=0.0, min_impurity_split=None,\n",
       "                       min_samples_leaf=1, min_samples_split=2,\n",
       "                       min_weight_fraction_leaf=0.0, n_estimators=500,\n",
       "                       n_jobs=None, oob_score=False, random_state=76, verbose=0,\n",
       "                       warm_start=False)"
      ]
     },
     "execution_count": 142,
     "metadata": {},
     "output_type": "execute_result"
    }
   ],
   "source": [
    "forest = RandomForestClassifier(n_estimators=500, random_state=76)\n",
    "forest.fit(x_train, y_train)"
   ]
  },
  {
   "cell_type": "markdown",
   "metadata": {},
   "source": [
    "### Evaluate Model"
   ]
  },
  {
   "cell_type": "code",
   "execution_count": 143,
   "metadata": {},
   "outputs": [
    {
     "name": "stdout",
     "output_type": "stream",
     "text": [
      "[[463  11]\n",
      " [ 80   9]]\n",
      "              precision    recall  f1-score   support\n",
      "\n",
      "           0       0.85      0.98      0.91       474\n",
      "           1       0.45      0.10      0.17        89\n",
      "\n",
      "    accuracy                           0.84       563\n",
      "   macro avg       0.65      0.54      0.54       563\n",
      "weighted avg       0.79      0.84      0.79       563\n",
      "\n"
     ]
    }
   ],
   "source": [
    "forestPredictions = forest.predict(x_test)\n",
    "print(confusion_matrix(y_test, forestPredictions))\n",
    "print(classification_report(y_test, forestPredictions))"
   ]
  },
  {
   "cell_type": "code",
   "execution_count": 144,
   "metadata": {},
   "outputs": [
    {
     "name": "stdout",
     "output_type": "stream",
     "text": [
      "[[463  11]\n",
      " [ 80   9]]\n"
     ]
    }
   ],
   "source": [
    "print(confusion_matrix(y_test, forestPredictions))"
   ]
  },
  {
   "cell_type": "code",
   "execution_count": null,
   "metadata": {},
   "outputs": [],
   "source": []
  }
 ],
 "metadata": {
  "kernelspec": {
   "display_name": "Python 3",
   "language": "python",
   "name": "python3"
  },
  "language_info": {
   "codemirror_mode": {
    "name": "ipython",
    "version": 3
   },
   "file_extension": ".py",
   "mimetype": "text/x-python",
   "name": "python",
   "nbconvert_exporter": "python",
   "pygments_lexer": "ipython3",
   "version": "3.7.4"
  }
 },
 "nbformat": 4,
 "nbformat_minor": 2
}
